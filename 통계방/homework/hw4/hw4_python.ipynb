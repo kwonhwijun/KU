{
 "cells": [
  {
   "cell_type": "code",
   "execution_count": 29,
   "metadata": {},
   "outputs": [],
   "source": [
    "import os\n",
    "import pandas as pd\n",
    "\n",
    "test = pd.read_csv('test.txt', header = None, delimiter = ' ')\n",
    "train = pd.read_csv('train.txt', header = None, delimiter = ' ')\n",
    "test_reshape = pd.DataFrame(test.values.reshape(500, 51))\n",
    "train_reshape = pd.DataFrame(train.values.reshape(500, 51))\n",
    "x_test, y_test = test_reshape.iloc[:, :50], test_reshape.iloc[:, 50]\n",
    "x_train, y_train = train_reshape.iloc[:, :50], train_reshape.iloc[:, 50]\n",
    "#train = pd.read_csv('train.txt',  delimiter = ' ')"
   ]
  },
  {
   "cell_type": "code",
   "execution_count": 28,
   "metadata": {},
   "outputs": [
    {
     "data": {
      "text/plain": [
       "0      0.161713\n",
       "1      1.260598\n",
       "2      1.722192\n",
       "3      1.218710\n",
       "4      1.843450\n",
       "         ...   \n",
       "495    3.842913\n",
       "496    6.155331\n",
       "497    5.759836\n",
       "498    6.402127\n",
       "499    5.298955\n",
       "Name: 50, Length: 500, dtype: float64"
      ]
     },
     "execution_count": 28,
     "metadata": {},
     "output_type": "execute_result"
    }
   ],
   "source": [
    "\n",
    "y_test"
   ]
  },
  {
   "cell_type": "markdown",
   "metadata": {},
   "source": [
    "# 1\n",
    "(a) Write your own code for the pathwise decent algorithm for Elastic-Net-penlaized linear regression to select the best λ that minimizes the test prediction error, via grid search.\n",
    "(b) Report the non-zero regression coefficients estimates you obtained, i.e., βˆj∀j ∈ {βˆj ̸= 0}."
   ]
  },
  {
   "cell_type": "code",
   "execution_count": null,
   "metadata": {},
   "outputs": [],
   "source": []
  }
 ],
 "metadata": {
  "kernelspec": {
   "display_name": "Python 3",
   "language": "python",
   "name": "python3"
  },
  "language_info": {
   "codemirror_mode": {
    "name": "ipython",
    "version": 3
   },
   "file_extension": ".py",
   "mimetype": "text/x-python",
   "name": "python",
   "nbconvert_exporter": "python",
   "pygments_lexer": "ipython3",
   "version": "3.11.5"
  }
 },
 "nbformat": 4,
 "nbformat_minor": 2
}
