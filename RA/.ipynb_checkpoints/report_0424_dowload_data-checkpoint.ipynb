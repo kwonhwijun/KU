{
 "cells": [
  {
   "cell_type": "markdown",
   "metadata": {},
   "source": [
    "## 아파트 실거래 다운로드 "
   ]
  },
  {
   "cell_type": "markdown",
   "metadata": {},
   "source": [
    "## 연도별 데이터 수"
   ]
  },
  {
   "cell_type": "code",
   "execution_count": 10,
   "metadata": {},
   "outputs": [
    {
     "name": "stdout",
     "output_type": "stream",
     "text": [
      "2006년 ~ 2024년 총 매매 수 : 9712311\n"
     ]
    }
   ],
   "source": [
    "from sqlalchemy import create_engine\n",
    "from sqlalchemy.sql import text\n",
    "eng = create_engine(\"sqlite:///data_load/real_estate.db\")\n",
    "\n",
    "query = f\"SELECT COUNT(*) FROM apt_distinct_coded_temp\"\n",
    "with eng.connect() as conn:\n",
    "    result = conn.execute(text(query))\n",
    "    for row in result:\n",
    "        print(f'2006년 ~ 2024년 총 매매 수 : {row[0]}')\n"
   ]
  },
  {
   "cell_type": "code",
   "execution_count": 7,
   "metadata": {},
   "outputs": [
    {
     "name": "stdout",
     "output_type": "stream",
     "text": [
      "2006년 매매 실거래 수 : 598635\n",
      "2007년 매매 실거래 수 : 237512\n",
      "2008년 매매 실거래 수 : 488780\n",
      "2009년 매매 실거래 수 : 562787\n",
      "2010년 매매 실거래 수 : 510091\n",
      "2011년 매매 실거래 수 : 568003\n",
      "2012년 매매 실거래 수 : 418507\n",
      "2013년 매매 실거래 수 : 554769\n",
      "2014년 매매 실거래 수 : 632032\n",
      "2015년 매매 실거래 수 : 712516\n",
      "2016년 매매 실거래 수 : 616635\n",
      "2017년 매매 실거래 수 : 561850\n",
      "2018년 매매 실거래 수 : 499170\n",
      "2019년 매매 실거래 수 : 529815\n",
      "2020년 매매 실거래 수 : 844931\n",
      "2021년 매매 실거래 수 : 597970\n",
      "2022년 매매 실거래 수 : 269840\n",
      "2023년 매매 실거래 수 : 393104\n",
      "2024년 매매 실거래 수 : 115364\n"
     ]
    }
   ],
   "source": [
    "eng = create_engine(\"sqlite:///data_load/real_estate.db\")\n",
    "\n",
    "for year in range(2006, 2025):\n",
    "    query = f\"SELECT COUNT(*) FROM apt_distinct_coded_temp WHERE 년 = {year}\"\n",
    "    with eng.connect() as conn:\n",
    "        result = conn.execute(text(query))\n",
    "        for row in result:\n",
    "            print(f\"{year}년 매매 실거래 수 : {row[0]}\")"
   ]
  },
  {
   "cell_type": "code",
   "execution_count": null,
   "metadata": {},
   "outputs": [],
   "source": []
  }
 ],
 "metadata": {
  "kernelspec": {
   "display_name": "Python 3",
   "language": "python",
   "name": "python3"
  },
  "language_info": {
   "codemirror_mode": {
    "name": "ipython",
    "version": 3
   },
   "file_extension": ".py",
   "mimetype": "text/x-python",
   "name": "python",
   "nbconvert_exporter": "python",
   "pygments_lexer": "ipython3",
   "version": "3.11.5"
  }
 },
 "nbformat": 4,
 "nbformat_minor": 2
}
