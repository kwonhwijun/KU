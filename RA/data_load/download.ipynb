{
 "cells": [
  {
   "cell_type": "markdown",
   "metadata": {},
   "source": [
    "# 데이터 저장하기"
   ]
  },
  {
   "cell_type": "code",
   "execution_count": 1,
   "metadata": {},
   "outputs": [],
   "source": [
    "import api\n",
    "import db\n",
    "from sqlalchemy import create_engine, text, MetaData"
   ]
  },
  {
   "cell_type": "code",
   "execution_count": 29,
   "metadata": {},
   "outputs": [
    {
     "name": "stdout",
     "output_type": "stream",
     "text": [
      "2006년 데이터 598635\n",
      "2007년 데이터 237512\n",
      "2008년 데이터 488780\n",
      "2009년 데이터 562787\n",
      "2010년 데이터 510091\n",
      "2011년 데이터 568003\n",
      "2012년 데이터 418507\n",
      "2013년 데이터 554769\n",
      "2014년 데이터 632032\n",
      "2015년 데이터 712516\n",
      "2016년 데이터 616635\n",
      "2017년 데이터 561850\n",
      "2018년 데이터 499170\n",
      "2019년 데이터 529815\n",
      "2020년 데이터 844931\n",
      "2021년 데이터 597970\n",
      "2022년 데이터 269840\n",
      "2023년 데이터 393104\n"
     ]
    }
   ],
   "source": [
    "for year in range(2006,2024): \n",
    "    query = f\"SELECT COUNT(*) FROM apt_distinct_temp2 WHERE 년 = {str(year)}\"\n",
    "    engine = create_engine('sqlite:///real_estate.db')\n",
    "    with engine.connect() as conn :\n",
    "        result = conn.execute(text(query))\n",
    "        for row in result :\n",
    "            print(f\"{year}년 데이터 {row[0]}\")\n"
   ]
  },
  {
   "cell_type": "code",
   "execution_count": 28,
   "metadata": {},
   "outputs": [
    {
     "name": "stdout",
     "output_type": "stream",
     "text": [
      "(9712311,)\n"
     ]
    }
   ],
   "source": [
    "# CREATE TABLE apt_distinct_temp AS\n",
    "\n",
    "query = '''\n",
    "CREATE TABLE apt_distinct_temp2 AS \n",
    "SELECT *\n",
    "FROM apt\n",
    "GROUP BY 년, 월, 일, 거래금액, 아파트, 층, 해제사유발생일\n",
    "'''\n",
    "\n",
    "\n",
    "query = \"SELECT COUNT(*) FROM apt_distinct_temp2\"\n",
    "engine = create_engine('sqlite:///real_estate.db')\n",
    "with engine.connect() as conn :\n",
    "    result = conn.execute(text(query))\n",
    "    for row in result :\n",
    "        print(row)"
   ]
  },
  {
   "cell_type": "code",
   "execution_count": 5,
   "metadata": {},
   "outputs": [],
   "source": [
    "loc = api.loc_code('all')\n",
    "ym = api.create_ym_list(2014, 2024)"
   ]
  },
  {
   "cell_type": "code",
   "execution_count": 6,
   "metadata": {},
   "outputs": [
    {
     "name": "stdout",
     "output_type": "stream",
     "text": [
      "201401 data is saved. 230 locations with no data saved.\n",
      "201402 data is saved. 231 locations with no data saved.\n",
      "201403 data is saved. 228 locations with no data saved.\n",
      "201404 data is saved. 229 locations with no data saved.\n",
      "201405 data is saved. 230 locations with no data saved.\n",
      "201406 data is saved. 231 locations with no data saved.\n",
      "201407 data is saved. 228 locations with no data saved.\n",
      "201408 data is saved. 231 locations with no data saved.\n",
      "201409 data is saved. 230 locations with no data saved.\n",
      "201410 data is saved. 229 locations with no data saved.\n",
      "201411 data is saved. 231 locations with no data saved.\n",
      "201412 data is saved. 232 locations with no data saved.\n",
      "201501 data is saved. 230 locations with no data saved.\n",
      "201502 data is saved. 228 locations with no data saved.\n",
      "201503 data is saved. 229 locations with no data saved.\n",
      "201504 data is saved. 229 locations with no data saved.\n",
      "201505 data is saved. 229 locations with no data saved.\n",
      "201506 data is saved. 230 locations with no data saved.\n",
      "201507 data is saved. 229 locations with no data saved.\n",
      "201508 data is saved. 230 locations with no data saved.\n",
      "201509 data is saved. 232 locations with no data saved.\n",
      "201510 data is saved. 228 locations with no data saved.\n",
      "201511 data is saved. 229 locations with no data saved.\n",
      "201512 data is saved. 230 locations with no data saved.\n",
      "201601 data is saved. 232 locations with no data saved.\n",
      "201602 data is saved. 229 locations with no data saved.\n",
      "201603 data is saved. 229 locations with no data saved.\n",
      "201604 data is saved. 230 locations with no data saved.\n",
      "201605 data is saved. 230 locations with no data saved.\n",
      "201606 data is saved. 229 locations with no data saved.\n",
      "An error occurred: syntax error: line 1, column 49 on (21110, 201607)\n",
      "201607 data is saved. 230 locations with no data saved.\n",
      "201608 data is saved. 228 locations with no data saved.\n",
      "201609 data is saved. 229 locations with no data saved.\n",
      "201610 data is saved. 229 locations with no data saved.\n",
      "201611 data is saved. 229 locations with no data saved.\n",
      "201612 data is saved. 229 locations with no data saved.\n",
      "201701 data is saved. 230 locations with no data saved.\n",
      "201702 data is saved. 229 locations with no data saved.\n",
      "201703 data is saved. 229 locations with no data saved.\n",
      "201704 data is saved. 228 locations with no data saved.\n",
      "201705 data is saved. 229 locations with no data saved.\n",
      "201706 data is saved. 232 locations with no data saved.\n",
      "201707 data is saved. 231 locations with no data saved.\n",
      "201708 data is saved. 231 locations with no data saved.\n",
      "201709 data is saved. 228 locations with no data saved.\n",
      "201710 data is saved. 230 locations with no data saved.\n",
      "201711 data is saved. 230 locations with no data saved.\n",
      "201712 data is saved. 228 locations with no data saved.\n",
      "201801 data is saved. 227 locations with no data saved.\n",
      "201802 data is saved. 230 locations with no data saved.\n",
      "201803 data is saved. 228 locations with no data saved.\n",
      "201804 data is saved. 230 locations with no data saved.\n",
      "201805 data is saved. 231 locations with no data saved.\n",
      "201806 data is saved. 230 locations with no data saved.\n",
      "201807 data is saved. 229 locations with no data saved.\n",
      "201808 data is saved. 229 locations with no data saved.\n",
      "201809 data is saved. 230 locations with no data saved.\n",
      "201810 data is saved. 229 locations with no data saved.\n",
      "201811 data is saved. 229 locations with no data saved.\n",
      "201812 data is saved. 229 locations with no data saved.\n",
      "201901 data is saved. 227 locations with no data saved.\n",
      "201902 data is saved. 229 locations with no data saved.\n",
      "201903 data is saved. 228 locations with no data saved.\n",
      "201904 data is saved. 229 locations with no data saved.\n",
      "201905 data is saved. 229 locations with no data saved.\n",
      "201906 data is saved. 230 locations with no data saved.\n",
      "201907 data is saved. 227 locations with no data saved.\n",
      "201908 data is saved. 230 locations with no data saved.\n",
      "201909 data is saved. 229 locations with no data saved.\n",
      "201910 data is saved. 228 locations with no data saved.\n",
      "201911 data is saved. 230 locations with no data saved.\n",
      "201912 data is saved. 229 locations with no data saved.\n",
      "202001 data is saved. 228 locations with no data saved.\n",
      "202002 data is saved. 229 locations with no data saved.\n",
      "202003 data is saved. 227 locations with no data saved.\n",
      "202004 data is saved. 227 locations with no data saved.\n",
      "202005 data is saved. 228 locations with no data saved.\n",
      "202006 data is saved. 228 locations with no data saved.\n",
      "202007 data is saved. 228 locations with no data saved.\n",
      "202008 data is saved. 228 locations with no data saved.\n",
      "202009 data is saved. 229 locations with no data saved.\n",
      "202010 data is saved. 228 locations with no data saved.\n",
      "202011 data is saved. 228 locations with no data saved.\n",
      "202012 data is saved. 227 locations with no data saved.\n",
      "202101 data is saved. 228 locations with no data saved.\n",
      "202102 data is saved. 230 locations with no data saved.\n",
      "202103 data is saved. 229 locations with no data saved.\n",
      "202104 data is saved. 228 locations with no data saved.\n",
      "202105 data is saved. 230 locations with no data saved.\n",
      "202106 data is saved. 228 locations with no data saved.\n",
      "202107 data is saved. 229 locations with no data saved.\n",
      "202108 data is saved. 228 locations with no data saved.\n",
      "202109 data is saved. 229 locations with no data saved.\n",
      "202110 data is saved. 229 locations with no data saved.\n",
      "202111 data is saved. 230 locations with no data saved.\n",
      "202112 data is saved. 228 locations with no data saved.\n",
      "202201 data is saved. 231 locations with no data saved.\n",
      "202202 data is saved. 229 locations with no data saved.\n",
      "202203 data is saved. 228 locations with no data saved.\n",
      "202204 data is saved. 230 locations with no data saved.\n",
      "202205 data is saved. 228 locations with no data saved.\n",
      "202206 data is saved. 228 locations with no data saved.\n",
      "202207 data is saved. 230 locations with no data saved.\n",
      "202208 data is saved. 230 locations with no data saved.\n",
      "202209 data is saved. 229 locations with no data saved.\n",
      "202210 data is saved. 230 locations with no data saved.\n",
      "202211 data is saved. 229 locations with no data saved.\n",
      "202212 data is saved. 230 locations with no data saved.\n",
      "202301 data is saved. 234 locations with no data saved.\n",
      "202302 data is saved. 231 locations with no data saved.\n",
      "202303 data is saved. 229 locations with no data saved.\n",
      "202304 data is saved. 228 locations with no data saved.\n",
      "202305 data is saved. 229 locations with no data saved.\n",
      "202306 data is saved. 231 locations with no data saved.\n",
      "202307 data is saved. 230 locations with no data saved.\n",
      "202308 data is saved. 231 locations with no data saved.\n",
      "202309 data is saved. 230 locations with no data saved.\n",
      "202310 data is saved. 229 locations with no data saved.\n",
      "202311 data is saved. 227 locations with no data saved.\n",
      "202312 data is saved. 229 locations with no data saved.\n",
      "202401 data is saved. 229 locations with no data saved.\n",
      "202402 data is saved. 228 locations with no data saved.\n",
      "202403 data is saved. 229 locations with no data saved.\n",
      "202404 data is saved. 236 locations with no data saved.\n",
      "202405 data is saved. 477 locations with no data saved.\n",
      "202406 data is saved. 477 locations with no data saved.\n",
      "202407 data is saved. 477 locations with no data saved.\n",
      "202408 data is saved. 477 locations with no data saved.\n",
      "202409 data is saved. 477 locations with no data saved.\n",
      "202410 data is saved. 477 locations with no data saved.\n",
      "202411 data is saved. 477 locations with no data saved.\n",
      "202412 data is saved. 477 locations with no data saved.\n"
     ]
    }
   ],
   "source": [
    "import api\n",
    "from sqlalchemy import create_engine, text\n",
    "\n",
    "api.save_all(engine, 'apt', loc, ym)"
   ]
  }
 ],
 "metadata": {
  "kernelspec": {
   "display_name": "Python 3",
   "language": "python",
   "name": "python3"
  },
  "language_info": {
   "codemirror_mode": {
    "name": "ipython",
    "version": 3
   },
   "file_extension": ".py",
   "mimetype": "text/x-python",
   "name": "python",
   "nbconvert_exporter": "python",
   "pygments_lexer": "ipython3",
   "version": "3.11.5"
  }
 },
 "nbformat": 4,
 "nbformat_minor": 2
}
