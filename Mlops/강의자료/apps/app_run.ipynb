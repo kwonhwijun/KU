{
 "cells": [
  {
   "cell_type": "code",
   "execution_count": null,
   "id": "11607a4d-0d09-4f9f-a6d6-1bc291b8fd42",
   "metadata": {},
   "outputs": [],
   "source": [
    "import dash\n",
    "from dash.dependencies import Input, Output, State\n",
    "import plotly.express as px\n",
    "import plotly.graph_objects as go\n",
    "\n",
    "import app_layout as al\n",
    "import mylib as my\n",
    "\n",
    "import pandas as pd\n",
    "import numpy as np\n",
    "import sys, os"
   ]
  },
  {
   "cell_type": "code",
   "execution_count": null,
   "id": "491285e1-ed7f-45ed-9dcb-6670d72cb82f",
   "metadata": {},
   "outputs": [],
   "source": []
  },
  {
   "cell_type": "code",
   "execution_count": null,
   "id": "a4ab3736-3667-42bd-9b88-62b86b7cd97d",
   "metadata": {},
   "outputs": [],
   "source": [
    "df = my.db_to_df(db_name='steel.db', table_name='test')"
   ]
  },
  {
   "cell_type": "code",
   "execution_count": null,
   "id": "160991c3-2f4e-4c22-b534-691fefeb0189",
   "metadata": {},
   "outputs": [],
   "source": [
    "items = ['button1','dropdown1','graph1', df]"
   ]
  },
  {
   "cell_type": "code",
   "execution_count": null,
   "id": "07da3bea-117c-46e2-a4ec-7bb76bc2a478",
   "metadata": {},
   "outputs": [],
   "source": [
    "app = dash.Dash()\n",
    "app.layout =  al.app_layout(items)"
   ]
  },
  {
   "cell_type": "code",
   "execution_count": null,
   "id": "b2616fff-0d62-4787-9a7d-97c07f81b32a",
   "metadata": {},
   "outputs": [],
   "source": [
    "@app.callback(\n",
    "    Output('graph1','figure'),\n",
    "    Input('button1','n_clicks'),\n",
    "    State('dropdown1', 'value'),\n",
    "    prevent_initial_call=False,\n",
    ")\n",
    "def fn(n_clicks, value): ## parameters from input and state    \n",
    "    fig = px.scatter(df, x='V1', y=value, width=700, height=400)\n",
    "    return fig"
   ]
  },
  {
   "cell_type": "code",
   "execution_count": null,
   "id": "91be5d1a-80d3-483d-b2ac-e6d6a40df179",
   "metadata": {},
   "outputs": [],
   "source": [
    "app.run_server(host=\"0.0.0.0\", port=9101) "
   ]
  },
  {
   "cell_type": "code",
   "execution_count": null,
   "id": "a6d7f1f1-b1dd-40fb-ae56-9103bc02a8d7",
   "metadata": {},
   "outputs": [],
   "source": []
  },
  {
   "cell_type": "code",
   "execution_count": null,
   "id": "30b8f298-e026-4b74-b2c4-4947301bc69f",
   "metadata": {},
   "outputs": [],
   "source": []
  }
 ],
 "metadata": {
  "kernelspec": {
   "display_name": "Python 3",
   "language": "python",
   "name": "python3"
  },
  "language_info": {
   "codemirror_mode": {
    "name": "ipython",
    "version": 3
   },
   "file_extension": ".py",
   "mimetype": "text/x-python",
   "name": "python",
   "nbconvert_exporter": "python",
   "pygments_lexer": "ipython3",
   "version": "3.9.17"
  }
 },
 "nbformat": 4,
 "nbformat_minor": 5
}
