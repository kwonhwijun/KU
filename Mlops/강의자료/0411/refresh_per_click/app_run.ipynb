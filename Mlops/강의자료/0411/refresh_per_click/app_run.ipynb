{
 "cells": [
  {
   "cell_type": "markdown",
   "id": "b0495741",
   "metadata": {},
   "source": [
    "- 2개의 callback"
   ]
  },
  {
   "cell_type": "code",
   "execution_count": 2,
   "id": "11607a4d-0d09-4f9f-a6d6-1bc291b8fd42",
   "metadata": {},
   "outputs": [],
   "source": [
    "import dash\n",
    "from dash.dependencies import Input, Output, State\n",
    "import plotly.express as px\n",
    "import plotly.graph_objects as go\n",
    "\n",
    "import app_layout as al\n",
    "import mylib as my\n",
    "\n",
    "import inference as infr\n",
    "\n",
    "import pandas as pd\n",
    "import numpy as np\n",
    "import sys, os\n",
    "import datetime\n",
    "import pickle as pkl"
   ]
  },
  {
   "cell_type": "code",
   "execution_count": 3,
   "id": "cc29dd7c-c98f-40b7-96c4-269a67e425d7",
   "metadata": {},
   "outputs": [],
   "source": [
    "items = ['button1','time1', 'pred1', 'graph1', 'table1', 'c_time0', 'counter']\n",
    "model = pkl.load(open(\"model.pkl\",\"rb\"))\n",
    "trans = pkl.load(open(\"transform.pkl\",\"rb\"))"
   ]
  },
  {
   "cell_type": "code",
   "execution_count": 4,
   "id": "07da3bea-117c-46e2-a4ec-7bb76bc2a478",
   "metadata": {},
   "outputs": [],
   "source": [
    "app = dash.Dash()\n",
    "app.layout =  al.app_layout(items)"
   ]
  },
  {
   "cell_type": "code",
   "execution_count": 5,
   "id": "ea945e35-b5d3-4deb-a7d0-3f7697846fa8",
   "metadata": {},
   "outputs": [],
   "source": [
    "# 1. 자동 적재\n",
    "\n",
    "@app.callback(\n",
    "    Output('c_time0','children'),\n",
    "    Input('counter', 'n_intervals'),\n",
    ")\n",
    "def live1(n_interval):\n",
    "    df = my.db_to_df_random(db_name='steel.db', table_name='test')\n",
    "    pred, x_cols = infr.inference(trans, model, df)\n",
    "    pred_df = pd.DataFrame(data=pred, columns=[\"pred\"])\n",
    "\n",
    "    my.df_to_db(df[x_cols], \"operation.db\", \"input_x\")\n",
    "    my.df_to_db(pred_df, \"operation.db\",\"pred\")\n",
    "    \n",
    "    tt = str(datetime.datetime.now())\n",
    "    return tt"
   ]
  },
  {
   "cell_type": "code",
   "execution_count": 6,
   "id": "b2616fff-0d62-4787-9a7d-97c07f81b32a",
   "metadata": {},
   "outputs": [],
   "source": [
    "# 클릭한 시점의 마지막 데이터를 불러오기\n",
    "@app.callback(\n",
    "    Output('time1','children'),\n",
    "    Output('table1','data'),\n",
    "    Output('pred1', 'children'),\n",
    "    Output('graph1', 'figure'),\n",
    "    Input('button1','n_clicks'),\n",
    "    prevent_initial_call=False,\n",
    ")\n",
    "def fn(n_clicks): \n",
    "    \n",
    "    tt = str(datetime.datetime.now())\n",
    "    \n",
    "    pred = my.db_last_row_to_df(db_name='operation.db', table_name='pred')['pred'].values[0]\n",
    "        \n",
    "    print_df = my.db_to_df(\"operation.db\",\"input_x\")\n",
    "    pred_history = my.db_to_df(\"operation.db\",\"pred\")\n",
    "    pred_history = pd.DataFrame(np.array([pred_history.index.tolist(),\n",
    "                                          pd.to_numeric(pred_history['pred']).tolist()]).T, columns=['index','pred'])\n",
    "    fig = px.line(pred_history, x='index', y='pred')    \n",
    "    out=print_df.to_dict('records')\n",
    "    \n",
    "    return tt, out, pred, fig"
   ]
  },
  {
   "cell_type": "code",
   "execution_count": 7,
   "id": "91be5d1a-80d3-483d-b2ac-e6d6a40df179",
   "metadata": {},
   "outputs": [
    {
     "data": {
      "text/html": [
       "\n",
       "        <iframe\n",
       "            width=\"100%\"\n",
       "            height=\"650\"\n",
       "            src=\"http://0.0.0.0:9101/\"\n",
       "            frameborder=\"0\"\n",
       "            allowfullscreen\n",
       "            \n",
       "        ></iframe>\n",
       "        "
      ],
      "text/plain": [
       "<IPython.lib.display.IFrame at 0x104247550>"
      ]
     },
     "metadata": {},
     "output_type": "display_data"
    },
    {
     "name": "stderr",
     "output_type": "stream",
     "text": [
      "[2024-04-11 11:50:48,686] ERROR in app: Exception on /_dash-update-component [POST]\n",
      "Traceback (most recent call last):\n",
      "  File \"/Library/Frameworks/Python.framework/Versions/3.11/lib/python3.11/site-packages/flask/app.py\", line 1473, in wsgi_app\n",
      "    response = self.full_dispatch_request()\n",
      "               ^^^^^^^^^^^^^^^^^^^^^^^^^^^^\n",
      "  File \"/Library/Frameworks/Python.framework/Versions/3.11/lib/python3.11/site-packages/flask/app.py\", line 882, in full_dispatch_request\n",
      "    rv = self.handle_user_exception(e)\n",
      "         ^^^^^^^^^^^^^^^^^^^^^^^^^^^^^\n",
      "  File \"/Library/Frameworks/Python.framework/Versions/3.11/lib/python3.11/site-packages/flask/app.py\", line 880, in full_dispatch_request\n",
      "    rv = self.dispatch_request()\n",
      "         ^^^^^^^^^^^^^^^^^^^^^^^\n",
      "  File \"/Library/Frameworks/Python.framework/Versions/3.11/lib/python3.11/site-packages/flask/app.py\", line 865, in dispatch_request\n",
      "    return self.ensure_sync(self.view_functions[rule.endpoint])(**view_args)  # type: ignore[no-any-return]\n",
      "           ^^^^^^^^^^^^^^^^^^^^^^^^^^^^^^^^^^^^^^^^^^^^^^^^^^^^^^^^^^^^^^^^^\n",
      "  File \"/Library/Frameworks/Python.framework/Versions/3.11/lib/python3.11/site-packages/dash/dash.py\", line 1352, in dispatch\n",
      "    ctx.run(\n",
      "  File \"/Library/Frameworks/Python.framework/Versions/3.11/lib/python3.11/site-packages/dash/_callback.py\", line 450, in add_context\n",
      "    output_value = _invoke_callback(func, *func_args, **func_kwargs)\n",
      "                   ^^^^^^^^^^^^^^^^^^^^^^^^^^^^^^^^^^^^^^^^^^^^^^^^^\n",
      "  File \"/Library/Frameworks/Python.framework/Versions/3.11/lib/python3.11/site-packages/dash/_callback.py\", line 39, in _invoke_callback\n",
      "    return func(*args, **kwargs)  # %% callback invoked %%\n",
      "           ^^^^^^^^^^^^^^^^^^^^^\n",
      "  File \"/var/folders/_7/gw7m14q925731rjlj61v1dqm0000gn/T/ipykernel_33849/62671719.py\", line 14, in fn\n",
      "    pred = my.db_last_row_to_df(db_name='operation.db', table_name='pred')['pred'].values[0]\n",
      "           ^^^^^^^^^^^^^^^^^^^^^^^^^^^^^^^^^^^^^^^^^^^^^^^^^^^^^^^^^^^^^^^\n",
      "  File \"/Users/hj/Dropbox/KU/Mlops/강의자료/0411/refresh_per_click/mylib.py\", line 78, in db_last_row_to_df\n",
      "    query = cur.execute( \"SELECT * FROM \" + table_name + \" ORDER BY rowid DESC LIMIT 1\")\n",
      "            ^^^^^^^^^^^^^^^^^^^^^^^^^^^^^^^^^^^^^^^^^^^^^^^^^^^^^^^^^^^^^^^^^^^^^^^^^^^^\n",
      "sqlite3.OperationalError: no such table: pred\n"
     ]
    }
   ],
   "source": [
    "app.run_server(host=\"0.0.0.0\", port=9101) "
   ]
  },
  {
   "cell_type": "code",
   "execution_count": null,
   "id": "1fbd355e-2502-4311-ad88-9b13bd874237",
   "metadata": {},
   "outputs": [],
   "source": []
  },
  {
   "cell_type": "code",
   "execution_count": null,
   "id": "e791f685-70eb-42fd-ab37-c644d447bf42",
   "metadata": {},
   "outputs": [],
   "source": []
  },
  {
   "cell_type": "code",
   "execution_count": null,
   "id": "a276ee6d-4af5-4fb7-9e80-689eec5ad3b2",
   "metadata": {},
   "outputs": [],
   "source": []
  },
  {
   "cell_type": "code",
   "execution_count": null,
   "id": "5c99070a-c55f-4d30-9feb-b0edb0360092",
   "metadata": {},
   "outputs": [],
   "source": []
  },
  {
   "cell_type": "code",
   "execution_count": null,
   "id": "f0e20ce6-b6cd-48fc-8c9a-62a13030e322",
   "metadata": {},
   "outputs": [],
   "source": []
  }
 ],
 "metadata": {
  "kernelspec": {
   "display_name": "Python 3",
   "language": "python",
   "name": "python3"
  },
  "language_info": {
   "codemirror_mode": {
    "name": "ipython",
    "version": 3
   },
   "file_extension": ".py",
   "mimetype": "text/x-python",
   "name": "python",
   "nbconvert_exporter": "python",
   "pygments_lexer": "ipython3",
   "version": "3.11.5"
  }
 },
 "nbformat": 4,
 "nbformat_minor": 5
}
