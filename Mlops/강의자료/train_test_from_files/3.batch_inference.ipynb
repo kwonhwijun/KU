{
 "cells": [
  {
   "cell_type": "code",
   "execution_count": null,
   "id": "f6c8b59a-5a05-465b-9a31-70efea599514",
   "metadata": {},
   "outputs": [],
   "source": [
    "import pandas as pd\n",
    "import numpy as np\n",
    "from sklearn.ensemble import RandomForestClassifier\n",
    "import pickle as pkl"
   ]
  },
  {
   "cell_type": "code",
   "execution_count": null,
   "id": "5c70c7de-6331-4497-ac58-5ca5f0838bc2",
   "metadata": {},
   "outputs": [],
   "source": []
  },
  {
   "cell_type": "code",
   "execution_count": null,
   "id": "17d1e8ff-8d55-4909-a92c-4bf427e4a47b",
   "metadata": {},
   "outputs": [],
   "source": [
    "trans = pkl.load(open(\"trans.pkl\",\"rb\"))"
   ]
  },
  {
   "cell_type": "code",
   "execution_count": null,
   "id": "c7c08d02-1f0b-49c3-8b0c-4aa0179af693",
   "metadata": {},
   "outputs": [],
   "source": [
    "model = pkl.load(open(\"model.pkl\",\"rb\"))"
   ]
  },
  {
   "cell_type": "code",
   "execution_count": null,
   "id": "92362634-57ed-4974-9dc5-bafa8f5f817d",
   "metadata": {},
   "outputs": [],
   "source": []
  },
  {
   "cell_type": "code",
   "execution_count": null,
   "id": "7e1b6dc7-335a-420f-81d2-d5d168a3d996",
   "metadata": {},
   "outputs": [],
   "source": [
    "test = pd.read_csv(\"test.csv\")"
   ]
  },
  {
   "cell_type": "code",
   "execution_count": null,
   "id": "7b534612-0676-4ee8-a27e-fbe214a84545",
   "metadata": {},
   "outputs": [],
   "source": [
    "test"
   ]
  },
  {
   "cell_type": "code",
   "execution_count": null,
   "id": "9227b668-4e77-4da4-9460-75a67c1b6a24",
   "metadata": {},
   "outputs": [],
   "source": [
    "x_cols = ['V'+str(i) for i in range(1,28)]"
   ]
  },
  {
   "cell_type": "code",
   "execution_count": null,
   "id": "14f58add-f1e7-4a79-a523-eadb9bd606a5",
   "metadata": {},
   "outputs": [],
   "source": [
    "test_x = trans.transform(test[x_cols])"
   ]
  },
  {
   "cell_type": "code",
   "execution_count": null,
   "id": "f2436d36-a698-475f-a0f7-34c2ee1e72dc",
   "metadata": {},
   "outputs": [],
   "source": [
    "test_pred = model.predict(test_x)"
   ]
  },
  {
   "cell_type": "code",
   "execution_count": null,
   "id": "49d9fd7a-cb71-474a-8ba1-883919925e64",
   "metadata": {},
   "outputs": [],
   "source": [
    "test_pred"
   ]
  }
 ],
 "metadata": {
  "kernelspec": {
   "display_name": "Python 3",
   "language": "python",
   "name": "python3"
  },
  "language_info": {
   "codemirror_mode": {
    "name": "ipython",
    "version": 3
   },
   "file_extension": ".py",
   "mimetype": "text/x-python",
   "name": "python",
   "nbconvert_exporter": "python",
   "pygments_lexer": "ipython3",
   "version": "3.9.17"
  }
 },
 "nbformat": 4,
 "nbformat_minor": 5
}
