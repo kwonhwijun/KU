{
 "cells": [
  {
   "cell_type": "code",
   "execution_count": null,
   "id": "d1068e74-cc1a-4852-be87-6ca5e95ece8e",
   "metadata": {},
   "outputs": [],
   "source": []
  },
  {
   "cell_type": "code",
   "execution_count": null,
   "id": "3c4940d1-2405-45b8-a4ee-d796189f6734",
   "metadata": {},
   "outputs": [],
   "source": []
  },
  {
   "cell_type": "code",
   "execution_count": 1,
   "id": "bc9ada4e-0f7b-4d3b-80b6-607a28809fd2",
   "metadata": {},
   "outputs": [],
   "source": [
    "import pandas as pd\n",
    "import numpy as np\n",
    "import pickle as pkl\n",
    "from sklearn.preprocessing import StandardScaler\n",
    "from sklearn.ensemble import RandomForestClassifier"
   ]
  },
  {
   "cell_type": "code",
   "execution_count": null,
   "id": "7feb6aaf-e24a-44c9-bfef-af4319e21663",
   "metadata": {},
   "outputs": [],
   "source": []
  },
  {
   "cell_type": "code",
   "execution_count": 2,
   "id": "0f2e9e47-2353-4680-9bd4-17ef1f7d582b",
   "metadata": {},
   "outputs": [],
   "source": [
    "trans = pkl.load(open(\"trans.pkl\",\"rb\"))\n",
    "model = pkl.load(open(\"model.pkl\",\"rb\"))"
   ]
  },
  {
   "cell_type": "code",
   "execution_count": null,
   "id": "d0b055af-aa23-4dfc-8cff-2abc8e4c2ab2",
   "metadata": {},
   "outputs": [],
   "source": []
  },
  {
   "cell_type": "code",
   "execution_count": 13,
   "id": "176afbba-e8f5-4a1d-a60c-e99d91a661f3",
   "metadata": {},
   "outputs": [],
   "source": [
    "def select_row(id):\n",
    "    a=id-1\n",
    "    dat = pd.read_csv(\"test.csv\")\n",
    "    row = dat[a:id]\n",
    "    return row"
   ]
  },
  {
   "cell_type": "code",
   "execution_count": null,
   "id": "6f291324-86b0-4600-b51b-87e9f0329a4e",
   "metadata": {},
   "outputs": [],
   "source": []
  },
  {
   "cell_type": "code",
   "execution_count": 17,
   "id": "c82d3307-df0c-4959-b004-62919c80a70e",
   "metadata": {},
   "outputs": [],
   "source": [
    "new_data = select_row(1)"
   ]
  },
  {
   "cell_type": "code",
   "execution_count": 22,
   "id": "69f84129-96fe-453c-98e6-2a40f41bb2ec",
   "metadata": {},
   "outputs": [],
   "source": [
    "x_cols = ['V'+str(i) for i in range(1,28)]"
   ]
  },
  {
   "cell_type": "code",
   "execution_count": 23,
   "id": "713f3d48-8ea5-40af-a269-b8211ad4e245",
   "metadata": {},
   "outputs": [],
   "source": [
    "x = trans.transform(new_data[x_cols])"
   ]
  },
  {
   "cell_type": "code",
   "execution_count": 25,
   "id": "f892e0d5-7cbb-434d-acac-d94b9b254ad4",
   "metadata": {},
   "outputs": [],
   "source": [
    "pred = model.predict(x)"
   ]
  },
  {
   "cell_type": "code",
   "execution_count": 26,
   "id": "68d28189-75d9-420f-9ea4-cdb79cae1c9c",
   "metadata": {},
   "outputs": [
    {
     "data": {
      "text/plain": [
       "array(['4'], dtype='<U1')"
      ]
     },
     "execution_count": 26,
     "metadata": {},
     "output_type": "execute_result"
    }
   ],
   "source": [
    "pred"
   ]
  },
  {
   "cell_type": "code",
   "execution_count": null,
   "id": "c211d178-038a-47f2-873f-17d0555bbfbe",
   "metadata": {},
   "outputs": [],
   "source": []
  }
 ],
 "metadata": {
  "kernelspec": {
   "display_name": "Python 3",
   "language": "python",
   "name": "python3"
  },
  "language_info": {
   "codemirror_mode": {
    "name": "ipython",
    "version": 3
   },
   "file_extension": ".py",
   "mimetype": "text/x-python",
   "name": "python",
   "nbconvert_exporter": "python",
   "pygments_lexer": "ipython3",
   "version": "3.9.17"
  }
 },
 "nbformat": 4,
 "nbformat_minor": 5
}
