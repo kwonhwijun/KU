{
 "cells": [
  {
   "cell_type": "code",
   "execution_count": null,
   "id": "40cbc033-3f31-4f76-b953-ad3ff3ede80a",
   "metadata": {},
   "outputs": [],
   "source": [
    "import pandas as pd\n",
    "import numpy as np"
   ]
  },
  {
   "cell_type": "code",
   "execution_count": null,
   "id": "474b478b-8f94-4a94-bef7-22394996db54",
   "metadata": {},
   "outputs": [],
   "source": []
  },
  {
   "cell_type": "code",
   "execution_count": null,
   "id": "0add14bf-fa91-4614-8917-56e2666d7f9e",
   "metadata": {},
   "outputs": [],
   "source": [
    "class example:\n",
    "    def __init__(self, parm):\n",
    "        self.parm = parm\n",
    "        \n",
    "    def functions1(self, x):\n",
    "        self.result = self.parm*x\n",
    "        return self.result\n",
    "    \n",
    "    def func2(self, y):\n",
    "        tmp = self.parm + self.result\n",
    "        return tmp*y"
   ]
  },
  {
   "cell_type": "code",
   "execution_count": null,
   "id": "fff6433c-d7ce-4c49-b9d5-b20d2a567810",
   "metadata": {},
   "outputs": [],
   "source": [
    "model = example(3)"
   ]
  },
  {
   "cell_type": "code",
   "execution_count": null,
   "id": "c01d6457-c3a2-4b89-ab03-1805dfb28ef3",
   "metadata": {},
   "outputs": [],
   "source": [
    "model.functions1(20)"
   ]
  },
  {
   "cell_type": "code",
   "execution_count": null,
   "id": "6417df6b-d696-49a9-82f4-d7a4179f462b",
   "metadata": {},
   "outputs": [],
   "source": [
    "model.functions1(15)"
   ]
  },
  {
   "cell_type": "code",
   "execution_count": null,
   "id": "e6f03663-3a2c-462d-8457-d5a16e5cf2a5",
   "metadata": {},
   "outputs": [],
   "source": [
    "model.func2(5)"
   ]
  },
  {
   "cell_type": "code",
   "execution_count": null,
   "id": "05722445-e636-4423-92a2-5f4a8a999085",
   "metadata": {},
   "outputs": [],
   "source": [
    "# self.parm 3\n",
    "# self.result 3*15\n",
    "# (3+45)*5"
   ]
  },
  {
   "cell_type": "code",
   "execution_count": null,
   "id": "5d380960-6db3-47cb-b877-4e70a4d3e474",
   "metadata": {},
   "outputs": [],
   "source": [
    "model."
   ]
  },
  {
   "cell_type": "code",
   "execution_count": null,
   "id": "3a6127bf-282d-4977-98dc-30c8a50dfe81",
   "metadata": {},
   "outputs": [],
   "source": []
  }
 ],
 "metadata": {
  "kernelspec": {
   "display_name": "Python 3",
   "language": "python",
   "name": "python3"
  },
  "language_info": {
   "codemirror_mode": {
    "name": "ipython",
    "version": 3
   },
   "file_extension": ".py",
   "mimetype": "text/x-python",
   "name": "python",
   "nbconvert_exporter": "python",
   "pygments_lexer": "ipython3",
   "version": "3.9.17"
  }
 },
 "nbformat": 4,
 "nbformat_minor": 5
}
