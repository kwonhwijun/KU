{
 "cells": [
  {
   "cell_type": "code",
   "execution_count": 1,
   "id": "a0818643-f295-4a6b-837b-81bb60df0472",
   "metadata": {},
   "outputs": [],
   "source": [
    "import numpy as np\n",
    "import pandas as pd\n",
    "import pickle as pkl\n",
    "\n",
    "\n",
    "from sklearn.compose import ColumnTransformer, make_column_selector\n",
    "from sklearn.pipeline import Pipeline\n",
    "from sklearn.preprocessing import StandardScaler, OneHotEncoder\n",
    "from sklearn.impute import SimpleImputer\n",
    "\n",
    "from sklearn.ensemble import RandomForestClassifier\n",
    "from catboost.datasets import titanic\n"
   ]
  },
  {
   "cell_type": "code",
   "execution_count": 8,
   "id": "07116c89",
   "metadata": {},
   "outputs": [
    {
     "ename": "RuntimeError",
     "evalue": "('failed to download from %s', ('https://storage.mds.yandex.net/get-devtools-opensource/233854/titanic.tar.gz',))",
     "output_type": "error",
     "traceback": [
      "\u001b[0;31m---------------------------------------------------------------------------\u001b[0m",
      "\u001b[0;31mRuntimeError\u001b[0m                              Traceback (most recent call last)",
      "Cell \u001b[0;32mIn[8], line 2\u001b[0m\n\u001b[1;32m      1\u001b[0m \u001b[38;5;28;01mfrom\u001b[39;00m \u001b[38;5;21;01mcatboost\u001b[39;00m\u001b[38;5;21;01m.\u001b[39;00m\u001b[38;5;21;01mdatasets\u001b[39;00m \u001b[38;5;28;01mimport\u001b[39;00m titanic\n\u001b[0;32m----> 2\u001b[0m \u001b[43mtitanic\u001b[49m\u001b[43m(\u001b[49m\u001b[43m)\u001b[49m\n",
      "File \u001b[0;32m/Library/Frameworks/Python.framework/Versions/3.11/lib/python3.11/site-packages/catboost/datasets.py:146\u001b[0m, in \u001b[0;36mtitanic\u001b[0;34m()\u001b[0m\n\u001b[1;32m    144\u001b[0m md5 \u001b[38;5;241m=\u001b[39m \u001b[38;5;124m'\u001b[39m\u001b[38;5;124m9c8bc61d545c6af244a1d37494df3fc3\u001b[39m\u001b[38;5;124m'\u001b[39m\n\u001b[1;32m    145\u001b[0m dataset_name, train_file, test_file \u001b[38;5;241m=\u001b[39m \u001b[38;5;124m'\u001b[39m\u001b[38;5;124mtitanic\u001b[39m\u001b[38;5;124m'\u001b[39m, \u001b[38;5;124m'\u001b[39m\u001b[38;5;124mtrain.csv\u001b[39m\u001b[38;5;124m'\u001b[39m, \u001b[38;5;124m'\u001b[39m\u001b[38;5;124mtest.csv\u001b[39m\u001b[38;5;124m'\u001b[39m\n\u001b[0;32m--> 146\u001b[0m \u001b[38;5;28;01mreturn\u001b[39;00m \u001b[43m_load_dataset_pd\u001b[49m\u001b[43m(\u001b[49m\u001b[43murl\u001b[49m\u001b[43m,\u001b[49m\u001b[43m \u001b[49m\u001b[43mmd5\u001b[49m\u001b[43m,\u001b[49m\u001b[43m \u001b[49m\u001b[43mdataset_name\u001b[49m\u001b[43m,\u001b[49m\u001b[43m \u001b[49m\u001b[43mtrain_file\u001b[49m\u001b[43m,\u001b[49m\u001b[43m \u001b[49m\u001b[43mtest_file\u001b[49m\u001b[43m)\u001b[49m\n",
      "File \u001b[0;32m/Library/Frameworks/Python.framework/Versions/3.11/lib/python3.11/site-packages/catboost/datasets.py:115\u001b[0m, in \u001b[0;36m_load_dataset_pd\u001b[0;34m(url, md5, dataset_name, train_file, test_file, sep, header, cache)\u001b[0m\n\u001b[1;32m    114\u001b[0m \u001b[38;5;28;01mdef\u001b[39;00m \u001b[38;5;21m_load_dataset_pd\u001b[39m(url, md5, dataset_name, train_file, test_file, sep\u001b[38;5;241m=\u001b[39m\u001b[38;5;124m'\u001b[39m\u001b[38;5;124m,\u001b[39m\u001b[38;5;124m'\u001b[39m, header\u001b[38;5;241m=\u001b[39m\u001b[38;5;124m'\u001b[39m\u001b[38;5;124minfer\u001b[39m\u001b[38;5;124m'\u001b[39m, cache\u001b[38;5;241m=\u001b[39m\u001b[38;5;28;01mFalse\u001b[39;00m):\n\u001b[0;32m--> 115\u001b[0m     train_path, test_path \u001b[38;5;241m=\u001b[39m \u001b[43m_download_dataset\u001b[49m\u001b[43m(\u001b[49m\u001b[43murl\u001b[49m\u001b[43m,\u001b[49m\u001b[43m \u001b[49m\u001b[43mmd5\u001b[49m\u001b[43m,\u001b[49m\u001b[43m \u001b[49m\u001b[43mdataset_name\u001b[49m\u001b[43m,\u001b[49m\u001b[43m \u001b[49m\u001b[43mtrain_file\u001b[49m\u001b[43m,\u001b[49m\u001b[43m \u001b[49m\u001b[43mtest_file\u001b[49m\u001b[43m,\u001b[49m\u001b[43m \u001b[49m\u001b[43mcache\u001b[49m\u001b[43m)\u001b[49m\n\u001b[1;32m    116\u001b[0m     train, test \u001b[38;5;241m=\u001b[39m pd\u001b[38;5;241m.\u001b[39mread_csv(train_path, header\u001b[38;5;241m=\u001b[39mheader, sep\u001b[38;5;241m=\u001b[39msep), pd\u001b[38;5;241m.\u001b[39mread_csv(test_path, header\u001b[38;5;241m=\u001b[39mheader, sep\u001b[38;5;241m=\u001b[39msep)\n\u001b[1;32m    117\u001b[0m     \u001b[38;5;28;01mif\u001b[39;00m \u001b[38;5;129;01mnot\u001b[39;00m cache:\n",
      "File \u001b[0;32m/Library/Frameworks/Python.framework/Versions/3.11/lib/python3.11/site-packages/catboost/datasets.py:99\u001b[0m, in \u001b[0;36m_download_dataset\u001b[0;34m(url, md5, dataset_name, train_file, test_file, cache)\u001b[0m\n\u001b[1;32m     97\u001b[0m os\u001b[38;5;241m.\u001b[39mclose(file_descriptor)\n\u001b[1;32m     98\u001b[0m \u001b[38;5;28;01mtry\u001b[39;00m:\n\u001b[0;32m---> 99\u001b[0m     \u001b[43m_cached_download\u001b[49m\u001b[43m(\u001b[49m\u001b[43murl\u001b[49m\u001b[43m,\u001b[49m\u001b[43m \u001b[49m\u001b[43mmd5\u001b[49m\u001b[43m,\u001b[49m\u001b[43m \u001b[49m\u001b[43mfile_path\u001b[49m\u001b[43m)\u001b[49m\n\u001b[1;32m    100\u001b[0m     _extract(file_path, dir_path)\n\u001b[1;32m    101\u001b[0m \u001b[38;5;28;01mfinally\u001b[39;00m:\n",
      "File \u001b[0;32m/Library/Frameworks/Python.framework/Versions/3.11/lib/python3.11/site-packages/catboost/datasets.py:62\u001b[0m, in \u001b[0;36m_cached_download\u001b[0;34m(url, md5, dst)\u001b[0m\n\u001b[1;32m     60\u001b[0m         logger\u001b[38;5;241m.\u001b[39mdebug(\u001b[38;5;124m'\u001b[39m\u001b[38;5;124mfailed to download from \u001b[39m\u001b[38;5;132;01m%s\u001b[39;00m\u001b[38;5;124m'\u001b[39m, u)\n\u001b[1;32m     61\u001b[0m \u001b[38;5;28;01melse\u001b[39;00m:\n\u001b[0;32m---> 62\u001b[0m     \u001b[38;5;28;01mraise\u001b[39;00m \u001b[38;5;167;01mRuntimeError\u001b[39;00m(\u001b[38;5;124m'\u001b[39m\u001b[38;5;124mfailed to download from \u001b[39m\u001b[38;5;132;01m%s\u001b[39;00m\u001b[38;5;124m'\u001b[39m, urls)\n\u001b[1;32m     64\u001b[0m dst_md5 \u001b[38;5;241m=\u001b[39m _calc_md5(dst)\n\u001b[1;32m     65\u001b[0m \u001b[38;5;28;01mif\u001b[39;00m dst_md5 \u001b[38;5;241m!=\u001b[39m md5:\n",
      "\u001b[0;31mRuntimeError\u001b[0m: ('failed to download from %s', ('https://storage.mds.yandex.net/get-devtools-opensource/233854/titanic.tar.gz',))"
     ]
    }
   ],
   "source": [
    "from catboost.datasets import titanic\n",
    "titanic()"
   ]
  },
  {
   "cell_type": "code",
   "execution_count": 2,
   "id": "7de71de4-8267-4290-b164-d94dfc33a35a",
   "metadata": {},
   "outputs": [],
   "source": [
    "## numerical column imputation ##\n",
    "\n",
    "pipe1 = Pipeline([\n",
    "    ('num_step1',   SimpleImputer(strategy=\"mean\") ),\n",
    "    ('num_step2',   StandardScaler()  ),\n",
    "])"
   ]
  },
  {
   "cell_type": "code",
   "execution_count": 3,
   "id": "d7ce0e0b-72ad-42c6-b6ed-75ef99bd2965",
   "metadata": {},
   "outputs": [],
   "source": [
    "## categorical column imputation ##\n",
    "\n",
    "pipe2 = Pipeline([\n",
    "    ('cat_step1',   SimpleImputer(strategy=\"most_frequent\") ),\n",
    "    ('cat_step2',   OneHotEncoder()  ),\n",
    "])"
   ]
  },
  {
   "cell_type": "code",
   "execution_count": 4,
   "id": "fe0d375c-83ba-44b4-8bb6-17d5416d5eb3",
   "metadata": {},
   "outputs": [],
   "source": [
    "## Column transformer ##\n",
    "\n",
    "transform = ColumnTransformer([\n",
    "    ('num',  pipe1,  make_column_selector(dtype_include=np.number)),\n",
    "    ('cat',  pipe2,  make_column_selector(dtype_exclude=np.number)),\n",
    "])"
   ]
  },
  {
   "cell_type": "code",
   "execution_count": 5,
   "id": "f4cd1ed8-cb00-4930-8627-47640707297a",
   "metadata": {},
   "outputs": [],
   "source": [
    "## model pipeline ##\n",
    "\n",
    "pipe0 = Pipeline([\n",
    "    ('transform',  transform     ),\n",
    "    ('model',      RandomForestClassifier()    )\n",
    "])"
   ]
  },
  {
   "cell_type": "code",
   "execution_count": 6,
   "id": "3f3ced2d-c76c-47cb-bedc-ac5f78bab05c",
   "metadata": {},
   "outputs": [
    {
     "ename": "RuntimeError",
     "evalue": "('failed to download from %s', ('https://storage.mds.yandex.net/get-devtools-opensource/233854/titanic.tar.gz',))",
     "output_type": "error",
     "traceback": [
      "\u001b[0;31m---------------------------------------------------------------------------\u001b[0m",
      "\u001b[0;31mRuntimeError\u001b[0m                              Traceback (most recent call last)",
      "Cell \u001b[0;32mIn[6], line 1\u001b[0m\n\u001b[0;32m----> 1\u001b[0m train, _ \u001b[38;5;241m=\u001b[39m \u001b[43mtitanic\u001b[49m\u001b[43m(\u001b[49m\u001b[43m)\u001b[49m\n",
      "File \u001b[0;32m/Library/Frameworks/Python.framework/Versions/3.11/lib/python3.11/site-packages/catboost/datasets.py:146\u001b[0m, in \u001b[0;36mtitanic\u001b[0;34m()\u001b[0m\n\u001b[1;32m    144\u001b[0m md5 \u001b[38;5;241m=\u001b[39m \u001b[38;5;124m'\u001b[39m\u001b[38;5;124m9c8bc61d545c6af244a1d37494df3fc3\u001b[39m\u001b[38;5;124m'\u001b[39m\n\u001b[1;32m    145\u001b[0m dataset_name, train_file, test_file \u001b[38;5;241m=\u001b[39m \u001b[38;5;124m'\u001b[39m\u001b[38;5;124mtitanic\u001b[39m\u001b[38;5;124m'\u001b[39m, \u001b[38;5;124m'\u001b[39m\u001b[38;5;124mtrain.csv\u001b[39m\u001b[38;5;124m'\u001b[39m, \u001b[38;5;124m'\u001b[39m\u001b[38;5;124mtest.csv\u001b[39m\u001b[38;5;124m'\u001b[39m\n\u001b[0;32m--> 146\u001b[0m \u001b[38;5;28;01mreturn\u001b[39;00m \u001b[43m_load_dataset_pd\u001b[49m\u001b[43m(\u001b[49m\u001b[43murl\u001b[49m\u001b[43m,\u001b[49m\u001b[43m \u001b[49m\u001b[43mmd5\u001b[49m\u001b[43m,\u001b[49m\u001b[43m \u001b[49m\u001b[43mdataset_name\u001b[49m\u001b[43m,\u001b[49m\u001b[43m \u001b[49m\u001b[43mtrain_file\u001b[49m\u001b[43m,\u001b[49m\u001b[43m \u001b[49m\u001b[43mtest_file\u001b[49m\u001b[43m)\u001b[49m\n",
      "File \u001b[0;32m/Library/Frameworks/Python.framework/Versions/3.11/lib/python3.11/site-packages/catboost/datasets.py:115\u001b[0m, in \u001b[0;36m_load_dataset_pd\u001b[0;34m(url, md5, dataset_name, train_file, test_file, sep, header, cache)\u001b[0m\n\u001b[1;32m    114\u001b[0m \u001b[38;5;28;01mdef\u001b[39;00m \u001b[38;5;21m_load_dataset_pd\u001b[39m(url, md5, dataset_name, train_file, test_file, sep\u001b[38;5;241m=\u001b[39m\u001b[38;5;124m'\u001b[39m\u001b[38;5;124m,\u001b[39m\u001b[38;5;124m'\u001b[39m, header\u001b[38;5;241m=\u001b[39m\u001b[38;5;124m'\u001b[39m\u001b[38;5;124minfer\u001b[39m\u001b[38;5;124m'\u001b[39m, cache\u001b[38;5;241m=\u001b[39m\u001b[38;5;28;01mFalse\u001b[39;00m):\n\u001b[0;32m--> 115\u001b[0m     train_path, test_path \u001b[38;5;241m=\u001b[39m \u001b[43m_download_dataset\u001b[49m\u001b[43m(\u001b[49m\u001b[43murl\u001b[49m\u001b[43m,\u001b[49m\u001b[43m \u001b[49m\u001b[43mmd5\u001b[49m\u001b[43m,\u001b[49m\u001b[43m \u001b[49m\u001b[43mdataset_name\u001b[49m\u001b[43m,\u001b[49m\u001b[43m \u001b[49m\u001b[43mtrain_file\u001b[49m\u001b[43m,\u001b[49m\u001b[43m \u001b[49m\u001b[43mtest_file\u001b[49m\u001b[43m,\u001b[49m\u001b[43m \u001b[49m\u001b[43mcache\u001b[49m\u001b[43m)\u001b[49m\n\u001b[1;32m    116\u001b[0m     train, test \u001b[38;5;241m=\u001b[39m pd\u001b[38;5;241m.\u001b[39mread_csv(train_path, header\u001b[38;5;241m=\u001b[39mheader, sep\u001b[38;5;241m=\u001b[39msep), pd\u001b[38;5;241m.\u001b[39mread_csv(test_path, header\u001b[38;5;241m=\u001b[39mheader, sep\u001b[38;5;241m=\u001b[39msep)\n\u001b[1;32m    117\u001b[0m     \u001b[38;5;28;01mif\u001b[39;00m \u001b[38;5;129;01mnot\u001b[39;00m cache:\n",
      "File \u001b[0;32m/Library/Frameworks/Python.framework/Versions/3.11/lib/python3.11/site-packages/catboost/datasets.py:99\u001b[0m, in \u001b[0;36m_download_dataset\u001b[0;34m(url, md5, dataset_name, train_file, test_file, cache)\u001b[0m\n\u001b[1;32m     97\u001b[0m os\u001b[38;5;241m.\u001b[39mclose(file_descriptor)\n\u001b[1;32m     98\u001b[0m \u001b[38;5;28;01mtry\u001b[39;00m:\n\u001b[0;32m---> 99\u001b[0m     \u001b[43m_cached_download\u001b[49m\u001b[43m(\u001b[49m\u001b[43murl\u001b[49m\u001b[43m,\u001b[49m\u001b[43m \u001b[49m\u001b[43mmd5\u001b[49m\u001b[43m,\u001b[49m\u001b[43m \u001b[49m\u001b[43mfile_path\u001b[49m\u001b[43m)\u001b[49m\n\u001b[1;32m    100\u001b[0m     _extract(file_path, dir_path)\n\u001b[1;32m    101\u001b[0m \u001b[38;5;28;01mfinally\u001b[39;00m:\n",
      "File \u001b[0;32m/Library/Frameworks/Python.framework/Versions/3.11/lib/python3.11/site-packages/catboost/datasets.py:62\u001b[0m, in \u001b[0;36m_cached_download\u001b[0;34m(url, md5, dst)\u001b[0m\n\u001b[1;32m     60\u001b[0m         logger\u001b[38;5;241m.\u001b[39mdebug(\u001b[38;5;124m'\u001b[39m\u001b[38;5;124mfailed to download from \u001b[39m\u001b[38;5;132;01m%s\u001b[39;00m\u001b[38;5;124m'\u001b[39m, u)\n\u001b[1;32m     61\u001b[0m \u001b[38;5;28;01melse\u001b[39;00m:\n\u001b[0;32m---> 62\u001b[0m     \u001b[38;5;28;01mraise\u001b[39;00m \u001b[38;5;167;01mRuntimeError\u001b[39;00m(\u001b[38;5;124m'\u001b[39m\u001b[38;5;124mfailed to download from \u001b[39m\u001b[38;5;132;01m%s\u001b[39;00m\u001b[38;5;124m'\u001b[39m, urls)\n\u001b[1;32m     64\u001b[0m dst_md5 \u001b[38;5;241m=\u001b[39m _calc_md5(dst)\n\u001b[1;32m     65\u001b[0m \u001b[38;5;28;01mif\u001b[39;00m dst_md5 \u001b[38;5;241m!=\u001b[39m md5:\n",
      "\u001b[0;31mRuntimeError\u001b[0m: ('failed to download from %s', ('https://storage.mds.yandex.net/get-devtools-opensource/233854/titanic.tar.gz',))"
     ]
    }
   ],
   "source": [
    "train, _ = titanic()"
   ]
  },
  {
   "cell_type": "code",
   "execution_count": null,
   "id": "a422cba9-150c-477a-a7b6-3ab868bbe51b",
   "metadata": {},
   "outputs": [],
   "source": [
    "ycol = \"Survived\"\n",
    "xcol = [col for col in train.columns if col not in [ycol]]"
   ]
  },
  {
   "cell_type": "code",
   "execution_count": null,
   "id": "3cc0300f-dbe6-4e84-9641-4da20362c068",
   "metadata": {},
   "outputs": [],
   "source": []
  },
  {
   "cell_type": "code",
   "execution_count": 9,
   "id": "d0aa1a77-4883-4526-a0ec-d99564795446",
   "metadata": {},
   "outputs": [
    {
     "ename": "NameError",
     "evalue": "name 'pipe' is not defined",
     "output_type": "error",
     "traceback": [
      "\u001b[0;31m---------------------------------------------------------------------------\u001b[0m",
      "\u001b[0;31mNameError\u001b[0m                                 Traceback (most recent call last)",
      "Cell \u001b[0;32mIn[9], line 1\u001b[0m\n\u001b[0;32m----> 1\u001b[0m \u001b[43mpipe\u001b[49m\u001b[38;5;241m.\u001b[39mfit(train[xcol],train[ycol])\n",
      "\u001b[0;31mNameError\u001b[0m: name 'pipe' is not defined"
     ]
    }
   ],
   "source": [
    "pipe.fit(train[xcol],train[ycol])"
   ]
  },
  {
   "cell_type": "code",
   "execution_count": null,
   "id": "f47381ba-5a96-497f-80d0-102c1f05f57f",
   "metadata": {},
   "outputs": [],
   "source": [
    "pipe.predict(train[xcol])"
   ]
  },
  {
   "cell_type": "code",
   "execution_count": null,
   "id": "4a23cecc-0584-48c4-803f-4e724052fb2c",
   "metadata": {},
   "outputs": [],
   "source": []
  },
  {
   "cell_type": "code",
   "execution_count": 10,
   "id": "455abaa8-b0d6-42d3-afd5-9da1f9f1d0df",
   "metadata": {},
   "outputs": [],
   "source": [
    "with open(\"ml_pipeline.pkl\",\"wb\") as f:\n",
    "    pkl.dump(pipe0,f)"
   ]
  }
 ],
 "metadata": {
  "kernelspec": {
   "display_name": "Python 3",
   "language": "python",
   "name": "python3"
  },
  "language_info": {
   "codemirror_mode": {
    "name": "ipython",
    "version": 3
   },
   "file_extension": ".py",
   "mimetype": "text/x-python",
   "name": "python",
   "nbconvert_exporter": "python",
   "pygments_lexer": "ipython3",
   "version": "3.11.5"
  }
 },
 "nbformat": 4,
 "nbformat_minor": 5
}
