{
 "cells": [
  {
   "cell_type": "markdown",
   "id": "33cfae52",
   "metadata": {},
   "source": [
    "## 1. 파이프라인을 사용하지 않고 타이타닉 데이터 분석하기\n",
    "범주형, 숫자형 칼럼에 대한 전처리\n",
    "모델을 학습시키고 적용하는 과정을 40줄에 걸쳐서 해야함."
   ]
  },
  {
   "cell_type": "code",
   "execution_count": 2,
   "id": "da0ce20c-6b99-4cc0-9085-e8e6bed573e3",
   "metadata": {},
   "outputs": [],
   "source": [
    "import pandas as pd\n",
    "import numpy as np"
   ]
  },
  {
   "cell_type": "code",
   "execution_count": null,
   "id": "836ce42e",
   "metadata": {},
   "outputs": [],
   "source": []
  },
  {
   "cell_type": "code",
   "execution_count": 9,
   "id": "4f55ce87-3230-4d88-9f88-ef14e8332f01",
   "metadata": {},
   "outputs": [
    {
     "ename": "RuntimeError",
     "evalue": "('failed to download from %s', ('https://storage.mds.yandex.net/get-devtools-opensource/233854/titanic.tar.gz',))",
     "output_type": "error",
     "traceback": [
      "\u001b[0;31m---------------------------------------------------------------------------\u001b[0m",
      "\u001b[0;31mRuntimeError\u001b[0m                              Traceback (most recent call last)",
      "Cell \u001b[0;32mIn[9], line 2\u001b[0m\n\u001b[1;32m      1\u001b[0m \u001b[38;5;28;01mfrom\u001b[39;00m \u001b[38;5;21;01mcatboost\u001b[39;00m\u001b[38;5;21;01m.\u001b[39;00m\u001b[38;5;21;01mdatasets\u001b[39;00m \u001b[38;5;28;01mimport\u001b[39;00m titanic\n\u001b[0;32m----> 2\u001b[0m titanic_train, titanic_test \u001b[38;5;241m=\u001b[39m \u001b[43mtitanic\u001b[49m\u001b[43m(\u001b[49m\u001b[43m)\u001b[49m\n\u001b[1;32m      4\u001b[0m \u001b[38;5;28mprint\u001b[39m(titanic_train\u001b[38;5;241m.\u001b[39mhead(\u001b[38;5;241m3\u001b[39m))\n",
      "File \u001b[0;32m/Library/Frameworks/Python.framework/Versions/3.11/lib/python3.11/site-packages/catboost/datasets.py:146\u001b[0m, in \u001b[0;36mtitanic\u001b[0;34m()\u001b[0m\n\u001b[1;32m    144\u001b[0m md5 \u001b[38;5;241m=\u001b[39m \u001b[38;5;124m'\u001b[39m\u001b[38;5;124m9c8bc61d545c6af244a1d37494df3fc3\u001b[39m\u001b[38;5;124m'\u001b[39m\n\u001b[1;32m    145\u001b[0m dataset_name, train_file, test_file \u001b[38;5;241m=\u001b[39m \u001b[38;5;124m'\u001b[39m\u001b[38;5;124mtitanic\u001b[39m\u001b[38;5;124m'\u001b[39m, \u001b[38;5;124m'\u001b[39m\u001b[38;5;124mtrain.csv\u001b[39m\u001b[38;5;124m'\u001b[39m, \u001b[38;5;124m'\u001b[39m\u001b[38;5;124mtest.csv\u001b[39m\u001b[38;5;124m'\u001b[39m\n\u001b[0;32m--> 146\u001b[0m \u001b[38;5;28;01mreturn\u001b[39;00m \u001b[43m_load_dataset_pd\u001b[49m\u001b[43m(\u001b[49m\u001b[43murl\u001b[49m\u001b[43m,\u001b[49m\u001b[43m \u001b[49m\u001b[43mmd5\u001b[49m\u001b[43m,\u001b[49m\u001b[43m \u001b[49m\u001b[43mdataset_name\u001b[49m\u001b[43m,\u001b[49m\u001b[43m \u001b[49m\u001b[43mtrain_file\u001b[49m\u001b[43m,\u001b[49m\u001b[43m \u001b[49m\u001b[43mtest_file\u001b[49m\u001b[43m)\u001b[49m\n",
      "File \u001b[0;32m/Library/Frameworks/Python.framework/Versions/3.11/lib/python3.11/site-packages/catboost/datasets.py:115\u001b[0m, in \u001b[0;36m_load_dataset_pd\u001b[0;34m(url, md5, dataset_name, train_file, test_file, sep, header, cache)\u001b[0m\n\u001b[1;32m    114\u001b[0m \u001b[38;5;28;01mdef\u001b[39;00m \u001b[38;5;21m_load_dataset_pd\u001b[39m(url, md5, dataset_name, train_file, test_file, sep\u001b[38;5;241m=\u001b[39m\u001b[38;5;124m'\u001b[39m\u001b[38;5;124m,\u001b[39m\u001b[38;5;124m'\u001b[39m, header\u001b[38;5;241m=\u001b[39m\u001b[38;5;124m'\u001b[39m\u001b[38;5;124minfer\u001b[39m\u001b[38;5;124m'\u001b[39m, cache\u001b[38;5;241m=\u001b[39m\u001b[38;5;28;01mFalse\u001b[39;00m):\n\u001b[0;32m--> 115\u001b[0m     train_path, test_path \u001b[38;5;241m=\u001b[39m \u001b[43m_download_dataset\u001b[49m\u001b[43m(\u001b[49m\u001b[43murl\u001b[49m\u001b[43m,\u001b[49m\u001b[43m \u001b[49m\u001b[43mmd5\u001b[49m\u001b[43m,\u001b[49m\u001b[43m \u001b[49m\u001b[43mdataset_name\u001b[49m\u001b[43m,\u001b[49m\u001b[43m \u001b[49m\u001b[43mtrain_file\u001b[49m\u001b[43m,\u001b[49m\u001b[43m \u001b[49m\u001b[43mtest_file\u001b[49m\u001b[43m,\u001b[49m\u001b[43m \u001b[49m\u001b[43mcache\u001b[49m\u001b[43m)\u001b[49m\n\u001b[1;32m    116\u001b[0m     train, test \u001b[38;5;241m=\u001b[39m pd\u001b[38;5;241m.\u001b[39mread_csv(train_path, header\u001b[38;5;241m=\u001b[39mheader, sep\u001b[38;5;241m=\u001b[39msep), pd\u001b[38;5;241m.\u001b[39mread_csv(test_path, header\u001b[38;5;241m=\u001b[39mheader, sep\u001b[38;5;241m=\u001b[39msep)\n\u001b[1;32m    117\u001b[0m     \u001b[38;5;28;01mif\u001b[39;00m \u001b[38;5;129;01mnot\u001b[39;00m cache:\n",
      "File \u001b[0;32m/Library/Frameworks/Python.framework/Versions/3.11/lib/python3.11/site-packages/catboost/datasets.py:99\u001b[0m, in \u001b[0;36m_download_dataset\u001b[0;34m(url, md5, dataset_name, train_file, test_file, cache)\u001b[0m\n\u001b[1;32m     97\u001b[0m os\u001b[38;5;241m.\u001b[39mclose(file_descriptor)\n\u001b[1;32m     98\u001b[0m \u001b[38;5;28;01mtry\u001b[39;00m:\n\u001b[0;32m---> 99\u001b[0m     \u001b[43m_cached_download\u001b[49m\u001b[43m(\u001b[49m\u001b[43murl\u001b[49m\u001b[43m,\u001b[49m\u001b[43m \u001b[49m\u001b[43mmd5\u001b[49m\u001b[43m,\u001b[49m\u001b[43m \u001b[49m\u001b[43mfile_path\u001b[49m\u001b[43m)\u001b[49m\n\u001b[1;32m    100\u001b[0m     _extract(file_path, dir_path)\n\u001b[1;32m    101\u001b[0m \u001b[38;5;28;01mfinally\u001b[39;00m:\n",
      "File \u001b[0;32m/Library/Frameworks/Python.framework/Versions/3.11/lib/python3.11/site-packages/catboost/datasets.py:62\u001b[0m, in \u001b[0;36m_cached_download\u001b[0;34m(url, md5, dst)\u001b[0m\n\u001b[1;32m     60\u001b[0m         logger\u001b[38;5;241m.\u001b[39mdebug(\u001b[38;5;124m'\u001b[39m\u001b[38;5;124mfailed to download from \u001b[39m\u001b[38;5;132;01m%s\u001b[39;00m\u001b[38;5;124m'\u001b[39m, u)\n\u001b[1;32m     61\u001b[0m \u001b[38;5;28;01melse\u001b[39;00m:\n\u001b[0;32m---> 62\u001b[0m     \u001b[38;5;28;01mraise\u001b[39;00m \u001b[38;5;167;01mRuntimeError\u001b[39;00m(\u001b[38;5;124m'\u001b[39m\u001b[38;5;124mfailed to download from \u001b[39m\u001b[38;5;132;01m%s\u001b[39;00m\u001b[38;5;124m'\u001b[39m, urls)\n\u001b[1;32m     64\u001b[0m dst_md5 \u001b[38;5;241m=\u001b[39m _calc_md5(dst)\n\u001b[1;32m     65\u001b[0m \u001b[38;5;28;01mif\u001b[39;00m dst_md5 \u001b[38;5;241m!=\u001b[39m md5:\n",
      "\u001b[0;31mRuntimeError\u001b[0m: ('failed to download from %s', ('https://storage.mds.yandex.net/get-devtools-opensource/233854/titanic.tar.gz',))"
     ]
    }
   ],
   "source": [
    "from catboost.datasets import titanic\n",
    "titanic_train, titanic_test = titanic()\n",
    "\n",
    "print(titanic_train.head(3))"
   ]
  },
  {
   "cell_type": "code",
   "execution_count": 7,
   "id": "97727030-df9c-4b21-9863-bc2485c7b81e",
   "metadata": {},
   "outputs": [],
   "source": [
    "from catboost.datasets import titanic"
   ]
  },
  {
   "cell_type": "code",
   "execution_count": 8,
   "id": "44c97c5d-434f-45aa-8969-d3ddaf41bdd4",
   "metadata": {},
   "outputs": [
    {
     "ename": "RuntimeError",
     "evalue": "('failed to download from %s', ('https://storage.mds.yandex.net/get-devtools-opensource/233854/titanic.tar.gz',))",
     "output_type": "error",
     "traceback": [
      "\u001b[0;31m---------------------------------------------------------------------------\u001b[0m",
      "\u001b[0;31mRuntimeError\u001b[0m                              Traceback (most recent call last)",
      "Cell \u001b[0;32mIn[8], line 1\u001b[0m\n\u001b[0;32m----> 1\u001b[0m train, test \u001b[38;5;241m=\u001b[39m \u001b[43mtitanic\u001b[49m\u001b[43m(\u001b[49m\u001b[43m)\u001b[49m\n",
      "File \u001b[0;32m/Library/Frameworks/Python.framework/Versions/3.11/lib/python3.11/site-packages/catboost/datasets.py:146\u001b[0m, in \u001b[0;36mtitanic\u001b[0;34m()\u001b[0m\n\u001b[1;32m    144\u001b[0m md5 \u001b[38;5;241m=\u001b[39m \u001b[38;5;124m'\u001b[39m\u001b[38;5;124m9c8bc61d545c6af244a1d37494df3fc3\u001b[39m\u001b[38;5;124m'\u001b[39m\n\u001b[1;32m    145\u001b[0m dataset_name, train_file, test_file \u001b[38;5;241m=\u001b[39m \u001b[38;5;124m'\u001b[39m\u001b[38;5;124mtitanic\u001b[39m\u001b[38;5;124m'\u001b[39m, \u001b[38;5;124m'\u001b[39m\u001b[38;5;124mtrain.csv\u001b[39m\u001b[38;5;124m'\u001b[39m, \u001b[38;5;124m'\u001b[39m\u001b[38;5;124mtest.csv\u001b[39m\u001b[38;5;124m'\u001b[39m\n\u001b[0;32m--> 146\u001b[0m \u001b[38;5;28;01mreturn\u001b[39;00m \u001b[43m_load_dataset_pd\u001b[49m\u001b[43m(\u001b[49m\u001b[43murl\u001b[49m\u001b[43m,\u001b[49m\u001b[43m \u001b[49m\u001b[43mmd5\u001b[49m\u001b[43m,\u001b[49m\u001b[43m \u001b[49m\u001b[43mdataset_name\u001b[49m\u001b[43m,\u001b[49m\u001b[43m \u001b[49m\u001b[43mtrain_file\u001b[49m\u001b[43m,\u001b[49m\u001b[43m \u001b[49m\u001b[43mtest_file\u001b[49m\u001b[43m)\u001b[49m\n",
      "File \u001b[0;32m/Library/Frameworks/Python.framework/Versions/3.11/lib/python3.11/site-packages/catboost/datasets.py:115\u001b[0m, in \u001b[0;36m_load_dataset_pd\u001b[0;34m(url, md5, dataset_name, train_file, test_file, sep, header, cache)\u001b[0m\n\u001b[1;32m    114\u001b[0m \u001b[38;5;28;01mdef\u001b[39;00m \u001b[38;5;21m_load_dataset_pd\u001b[39m(url, md5, dataset_name, train_file, test_file, sep\u001b[38;5;241m=\u001b[39m\u001b[38;5;124m'\u001b[39m\u001b[38;5;124m,\u001b[39m\u001b[38;5;124m'\u001b[39m, header\u001b[38;5;241m=\u001b[39m\u001b[38;5;124m'\u001b[39m\u001b[38;5;124minfer\u001b[39m\u001b[38;5;124m'\u001b[39m, cache\u001b[38;5;241m=\u001b[39m\u001b[38;5;28;01mFalse\u001b[39;00m):\n\u001b[0;32m--> 115\u001b[0m     train_path, test_path \u001b[38;5;241m=\u001b[39m \u001b[43m_download_dataset\u001b[49m\u001b[43m(\u001b[49m\u001b[43murl\u001b[49m\u001b[43m,\u001b[49m\u001b[43m \u001b[49m\u001b[43mmd5\u001b[49m\u001b[43m,\u001b[49m\u001b[43m \u001b[49m\u001b[43mdataset_name\u001b[49m\u001b[43m,\u001b[49m\u001b[43m \u001b[49m\u001b[43mtrain_file\u001b[49m\u001b[43m,\u001b[49m\u001b[43m \u001b[49m\u001b[43mtest_file\u001b[49m\u001b[43m,\u001b[49m\u001b[43m \u001b[49m\u001b[43mcache\u001b[49m\u001b[43m)\u001b[49m\n\u001b[1;32m    116\u001b[0m     train, test \u001b[38;5;241m=\u001b[39m pd\u001b[38;5;241m.\u001b[39mread_csv(train_path, header\u001b[38;5;241m=\u001b[39mheader, sep\u001b[38;5;241m=\u001b[39msep), pd\u001b[38;5;241m.\u001b[39mread_csv(test_path, header\u001b[38;5;241m=\u001b[39mheader, sep\u001b[38;5;241m=\u001b[39msep)\n\u001b[1;32m    117\u001b[0m     \u001b[38;5;28;01mif\u001b[39;00m \u001b[38;5;129;01mnot\u001b[39;00m cache:\n",
      "File \u001b[0;32m/Library/Frameworks/Python.framework/Versions/3.11/lib/python3.11/site-packages/catboost/datasets.py:99\u001b[0m, in \u001b[0;36m_download_dataset\u001b[0;34m(url, md5, dataset_name, train_file, test_file, cache)\u001b[0m\n\u001b[1;32m     97\u001b[0m os\u001b[38;5;241m.\u001b[39mclose(file_descriptor)\n\u001b[1;32m     98\u001b[0m \u001b[38;5;28;01mtry\u001b[39;00m:\n\u001b[0;32m---> 99\u001b[0m     \u001b[43m_cached_download\u001b[49m\u001b[43m(\u001b[49m\u001b[43murl\u001b[49m\u001b[43m,\u001b[49m\u001b[43m \u001b[49m\u001b[43mmd5\u001b[49m\u001b[43m,\u001b[49m\u001b[43m \u001b[49m\u001b[43mfile_path\u001b[49m\u001b[43m)\u001b[49m\n\u001b[1;32m    100\u001b[0m     _extract(file_path, dir_path)\n\u001b[1;32m    101\u001b[0m \u001b[38;5;28;01mfinally\u001b[39;00m:\n",
      "File \u001b[0;32m/Library/Frameworks/Python.framework/Versions/3.11/lib/python3.11/site-packages/catboost/datasets.py:62\u001b[0m, in \u001b[0;36m_cached_download\u001b[0;34m(url, md5, dst)\u001b[0m\n\u001b[1;32m     60\u001b[0m         logger\u001b[38;5;241m.\u001b[39mdebug(\u001b[38;5;124m'\u001b[39m\u001b[38;5;124mfailed to download from \u001b[39m\u001b[38;5;132;01m%s\u001b[39;00m\u001b[38;5;124m'\u001b[39m, u)\n\u001b[1;32m     61\u001b[0m \u001b[38;5;28;01melse\u001b[39;00m:\n\u001b[0;32m---> 62\u001b[0m     \u001b[38;5;28;01mraise\u001b[39;00m \u001b[38;5;167;01mRuntimeError\u001b[39;00m(\u001b[38;5;124m'\u001b[39m\u001b[38;5;124mfailed to download from \u001b[39m\u001b[38;5;132;01m%s\u001b[39;00m\u001b[38;5;124m'\u001b[39m, urls)\n\u001b[1;32m     64\u001b[0m dst_md5 \u001b[38;5;241m=\u001b[39m _calc_md5(dst)\n\u001b[1;32m     65\u001b[0m \u001b[38;5;28;01mif\u001b[39;00m dst_md5 \u001b[38;5;241m!=\u001b[39m md5:\n",
      "\u001b[0;31mRuntimeError\u001b[0m: ('failed to download from %s', ('https://storage.mds.yandex.net/get-devtools-opensource/233854/titanic.tar.gz',))"
     ]
    }
   ],
   "source": [
    "train, test = titanic()"
   ]
  },
  {
   "cell_type": "code",
   "execution_count": null,
   "id": "370b5b87-0928-4208-805c-4c3f351466d5",
   "metadata": {},
   "outputs": [],
   "source": [
    "train.shape, test.shape"
   ]
  },
  {
   "cell_type": "code",
   "execution_count": null,
   "id": "85c03876-44f1-4281-b5b2-c8f5fee553ed",
   "metadata": {},
   "outputs": [],
   "source": [
    "train.head()"
   ]
  },
  {
   "cell_type": "code",
   "execution_count": null,
   "id": "fe08db5e-b544-4bc1-9201-3cd2cdb5f150",
   "metadata": {},
   "outputs": [],
   "source": [
    "### 결측값이 있는 컬럼명 출력 ###\n",
    "[col for col in train.columns if train[col].isna().sum() >0]"
   ]
  },
  {
   "cell_type": "code",
   "execution_count": null,
   "id": "eab45d28-6fad-4dfd-b80a-914ae2787116",
   "metadata": {},
   "outputs": [],
   "source": [
    "# 1. 다양한 형태의 컬럼 (숫자, 문자)\n",
    "# 2. 다양한 정보 (ID, cardinality, parsible, ... )\n",
    "# 3. 결측 (숫자결측, 문자결측)"
   ]
  },
  {
   "cell_type": "code",
   "execution_count": null,
   "id": "7f768c94-0cee-4b47-8985-eb5b23cedf49",
   "metadata": {},
   "outputs": [],
   "source": []
  },
  {
   "cell_type": "code",
   "execution_count": null,
   "id": "565df1fb-b4fc-4900-bb4a-f8cbbaedd849",
   "metadata": {},
   "outputs": [],
   "source": []
  },
  {
   "cell_type": "code",
   "execution_count": null,
   "id": "0e1cf8e6-6a9f-402c-a3f3-cb907aa685b6",
   "metadata": {},
   "outputs": [],
   "source": []
  },
  {
   "cell_type": "code",
   "execution_count": null,
   "id": "3d20106a-cdca-40ba-a50f-eb14e73b3f25",
   "metadata": {},
   "outputs": [],
   "source": [
    "##### 2. 1st draft 모델링 #####"
   ]
  },
  {
   "cell_type": "code",
   "execution_count": null,
   "id": "211c73be-f3f6-4000-9699-2876ef6d964a",
   "metadata": {},
   "outputs": [],
   "source": [
    "from sklearn.ensemble import RandomForestClassifier"
   ]
  },
  {
   "cell_type": "code",
   "execution_count": null,
   "id": "7d6cb9a2-2caa-4466-b808-0a1205b3f28f",
   "metadata": {},
   "outputs": [],
   "source": [
    "ycol = [\"Survived\"]\n",
    "xcol = [col for col in train.columns if col not in ycol]"
   ]
  },
  {
   "cell_type": "code",
   "execution_count": null,
   "id": "2e6646b6-339a-4063-8dc4-1343ec2f3c12",
   "metadata": {},
   "outputs": [],
   "source": [
    "X = train[xcol]\n",
    "y = train[ycol]"
   ]
  },
  {
   "cell_type": "code",
   "execution_count": null,
   "id": "7542b293-f5fa-4c98-a1a6-92cdda35c0ee",
   "metadata": {},
   "outputs": [],
   "source": [
    "model = RandomForestClassifier()\n",
    "model.fit(X, y)"
   ]
  },
  {
   "cell_type": "code",
   "execution_count": null,
   "id": "20d15f4d-81d9-4e2e-8637-6771a5613940",
   "metadata": {},
   "outputs": [],
   "source": []
  },
  {
   "cell_type": "code",
   "execution_count": null,
   "id": "c3bc184e-7190-4b4c-83d1-d895489f174d",
   "metadata": {},
   "outputs": [],
   "source": []
  },
  {
   "cell_type": "code",
   "execution_count": null,
   "id": "df5c35ec-9570-4a8b-85af-1acac0bfae6e",
   "metadata": {},
   "outputs": [],
   "source": [
    "#### 3. One-Hot encoding ####"
   ]
  },
  {
   "cell_type": "code",
   "execution_count": null,
   "id": "beb3f727-f39f-43d4-8e50-8cc4e7da22df",
   "metadata": {},
   "outputs": [],
   "source": [
    "from sklearn.preprocessing import OneHotEncoder"
   ]
  },
  {
   "cell_type": "code",
   "execution_count": null,
   "id": "8545bb25-5a31-4be1-a06e-a493198fe7cd",
   "metadata": {},
   "outputs": [],
   "source": [
    "num_cols = X.select_dtypes(include=np.number).columns.tolist()\n",
    "cat_cols = [col for col in X.columns if col not in num_cols]"
   ]
  },
  {
   "cell_type": "code",
   "execution_count": null,
   "id": "bdd0f8b9-d6bc-499f-a660-f9d6bdfbea43",
   "metadata": {},
   "outputs": [],
   "source": []
  },
  {
   "cell_type": "code",
   "execution_count": null,
   "id": "42ec40bb-c6f5-4cd8-a38f-c73a03f6d051",
   "metadata": {},
   "outputs": [],
   "source": [
    "enc = OneHotEncoder(sparse=False)\n",
    "enc.fit(X[cat_cols])"
   ]
  },
  {
   "cell_type": "code",
   "execution_count": null,
   "id": "9910e2c8-665c-488a-819e-95ea9daddd77",
   "metadata": {},
   "outputs": [],
   "source": [
    "new_cat_X = enc.transform(X[cat_cols])\n",
    "new_X = np.concatenate([new_cat_X, X[num_cols].to_numpy()], axis=1)"
   ]
  },
  {
   "cell_type": "code",
   "execution_count": null,
   "id": "72d533b9-de7d-4332-ba68-2d821705dca0",
   "metadata": {},
   "outputs": [],
   "source": [
    "pd.DataFrame(new_X)"
   ]
  },
  {
   "cell_type": "code",
   "execution_count": null,
   "id": "2252862f-2dd8-4f96-bccf-0201a6245047",
   "metadata": {},
   "outputs": [],
   "source": []
  },
  {
   "cell_type": "code",
   "execution_count": null,
   "id": "e01d898c-eaa1-4117-88ec-8f2a88b8b7d0",
   "metadata": {},
   "outputs": [],
   "source": [
    "model = RandomForestClassifier()\n",
    "model.fit(new_X, y)"
   ]
  },
  {
   "cell_type": "code",
   "execution_count": null,
   "id": "7b550445-48b2-4aed-a619-a82187d3f32f",
   "metadata": {},
   "outputs": [],
   "source": []
  },
  {
   "cell_type": "code",
   "execution_count": null,
   "id": "4cfcf032-6ad8-4d63-969c-2ee53e6e2553",
   "metadata": {},
   "outputs": [],
   "source": [
    "#### 4. 결측값 처리 ####"
   ]
  },
  {
   "cell_type": "code",
   "execution_count": null,
   "id": "8616403c-6f91-43f8-b483-ab1ef573ca9c",
   "metadata": {},
   "outputs": [],
   "source": [
    "from sklearn.impute import SimpleImputer"
   ]
  },
  {
   "cell_type": "code",
   "execution_count": null,
   "id": "48f31fb8-7d84-49d7-a5e8-4253522ae1b5",
   "metadata": {},
   "outputs": [],
   "source": [
    "imp = SimpleImputer()\n",
    "imp.fit(new_X)"
   ]
  },
  {
   "cell_type": "code",
   "execution_count": null,
   "id": "39a7f455-e281-4f44-b721-dea30d4cf841",
   "metadata": {},
   "outputs": [],
   "source": [
    "new_X2 = imp.transform(new_X)"
   ]
  },
  {
   "cell_type": "code",
   "execution_count": null,
   "id": "0f889e4d-577a-4ed3-8f7c-d2b956d4f553",
   "metadata": {},
   "outputs": [],
   "source": []
  },
  {
   "cell_type": "code",
   "execution_count": null,
   "id": "16f05e7e-7822-41fe-baea-57fe6bce306f",
   "metadata": {},
   "outputs": [],
   "source": [
    "model = RandomForestClassifier()\n",
    "model.fit(new_X2, y)"
   ]
  },
  {
   "cell_type": "code",
   "execution_count": null,
   "id": "730f12f9-401d-48fe-b05c-71b53b507fe0",
   "metadata": {},
   "outputs": [],
   "source": []
  },
  {
   "cell_type": "code",
   "execution_count": null,
   "id": "599c87c2-dcb6-4058-8db1-27a665f7ccbb",
   "metadata": {},
   "outputs": [],
   "source": [
    "fitted_value = model.predict(new_X2)"
   ]
  },
  {
   "cell_type": "code",
   "execution_count": null,
   "id": "13e714a2-902c-4919-9c3a-2ccc8c840bc9",
   "metadata": {},
   "outputs": [],
   "source": [
    "from sklearn.metrics import accuracy_score"
   ]
  },
  {
   "cell_type": "code",
   "execution_count": null,
   "id": "d3b7725e-d171-4bde-be7a-7d086556aa8f",
   "metadata": {},
   "outputs": [],
   "source": [
    "accuracy_score(fitted_value, y)"
   ]
  },
  {
   "cell_type": "code",
   "execution_count": null,
   "id": "0f92798c-e732-41dd-8d82-500752f2148e",
   "metadata": {},
   "outputs": [],
   "source": [
    "test_pred = model.predict(test[xcol])\n",
    "accuracy_score(test_pred, y)"
   ]
  },
  {
   "cell_type": "code",
   "execution_count": null,
   "id": "d9ca7ab5-a9ad-4e1a-b7cb-ae5bec7057c6",
   "metadata": {},
   "outputs": [],
   "source": []
  },
  {
   "cell_type": "code",
   "execution_count": null,
   "id": "823fe88f-acd1-41be-b4d2-559528abc70c",
   "metadata": {},
   "outputs": [],
   "source": [
    "test_cat = enc.transform(test[cat_cols])"
   ]
  },
  {
   "cell_type": "code",
   "execution_count": null,
   "id": "cfcd44fe-eb7b-4e29-aba2-d0687eaf0fa1",
   "metadata": {},
   "outputs": [],
   "source": []
  },
  {
   "cell_type": "code",
   "execution_count": null,
   "id": "f89fb7a9-6da2-47ea-b98b-3fb604be1d36",
   "metadata": {},
   "outputs": [],
   "source": [
    "# 6. Name, ticket 컬럼 삭제 #"
   ]
  },
  {
   "cell_type": "code",
   "execution_count": null,
   "id": "d43216ce-ad68-46c7-9f4b-45fddfdc3977",
   "metadata": {},
   "outputs": [],
   "source": [
    "cat_cols = [col for col in X.columns if col not in num_cols + ['Name','Ticket','Cabin']]"
   ]
  },
  {
   "cell_type": "code",
   "execution_count": null,
   "id": "18bfecc0-d922-4164-a2aa-e05dfc633b61",
   "metadata": {},
   "outputs": [],
   "source": []
  },
  {
   "cell_type": "code",
   "execution_count": null,
   "id": "22361d01-30d3-46f2-8d27-117e10a360b3",
   "metadata": {},
   "outputs": [],
   "source": [
    "# 7. 전처리 다시 #"
   ]
  },
  {
   "cell_type": "code",
   "execution_count": null,
   "id": "46e9607b-2d63-4c1c-b21b-c20dea19a478",
   "metadata": {},
   "outputs": [],
   "source": [
    "enc = OneHotEncoder(sparse=False)\n",
    "enc.fit(X[cat_cols])"
   ]
  },
  {
   "cell_type": "code",
   "execution_count": null,
   "id": "a2d6834c-866e-403b-b454-71aeac43de0b",
   "metadata": {},
   "outputs": [],
   "source": [
    "new_new_X = np.concatenate([enc.transform(X[cat_cols]), X[num_cols].to_numpy()], axis=1)"
   ]
  },
  {
   "cell_type": "code",
   "execution_count": null,
   "id": "52820f1c-609a-46ec-9493-8db6c41d195e",
   "metadata": {},
   "outputs": [],
   "source": [
    "imp = SimpleImputer()\n",
    "imp.fit(new_new_X)"
   ]
  },
  {
   "cell_type": "code",
   "execution_count": null,
   "id": "15b2c7fa-1521-4fd8-b15a-2854bc4a4e11",
   "metadata": {},
   "outputs": [],
   "source": [
    "new_new_new_X = imp.transform(new_new_X)"
   ]
  },
  {
   "cell_type": "code",
   "execution_count": null,
   "id": "52a8f2ac-8eb3-4409-9b1d-5b6857e6d120",
   "metadata": {},
   "outputs": [],
   "source": []
  },
  {
   "cell_type": "code",
   "execution_count": null,
   "id": "9098c8d7-0a2a-4d4e-97c7-448aafd06b59",
   "metadata": {},
   "outputs": [],
   "source": [
    "# 8. 2nd draft 모델링"
   ]
  },
  {
   "cell_type": "code",
   "execution_count": null,
   "id": "5ee73e64-4ea1-4f1f-8379-b5195e68e0e0",
   "metadata": {},
   "outputs": [],
   "source": [
    "model = RandomForestClassifier()\n",
    "model.fit(new_new_new_X, y)"
   ]
  },
  {
   "cell_type": "code",
   "execution_count": null,
   "id": "a13c6d38-782c-4d74-8b39-a3e9f008c1da",
   "metadata": {},
   "outputs": [],
   "source": [
    "fitted_value = model.predict(new_new_new_X)"
   ]
  },
  {
   "cell_type": "code",
   "execution_count": null,
   "id": "fbd9ceea-af47-480d-ae2c-575ffdbaa489",
   "metadata": {},
   "outputs": [],
   "source": [
    "accuracy_score(fitted_value, y)"
   ]
  },
  {
   "cell_type": "code",
   "execution_count": null,
   "id": "8d25ad9b-dea4-48bd-a647-720dcd899867",
   "metadata": {},
   "outputs": [],
   "source": []
  },
  {
   "cell_type": "code",
   "execution_count": null,
   "id": "81f04c8c-aa86-4c4a-9a72-2ebb575707d3",
   "metadata": {},
   "outputs": [],
   "source": [
    "# 9. test set 예측 "
   ]
  },
  {
   "cell_type": "code",
   "execution_count": null,
   "id": "7f8bff98-eec7-4727-9e26-46746f96bbb7",
   "metadata": {},
   "outputs": [],
   "source": [
    "new_test = enc.transform(test[cat_cols])"
   ]
  },
  {
   "cell_type": "code",
   "execution_count": null,
   "id": "520162ef-5f34-46a6-be13-62be7aaf73b9",
   "metadata": {},
   "outputs": [],
   "source": [
    "new_new_test = np.concatenate([new_test, test[num_cols].to_numpy()], axis=1)"
   ]
  },
  {
   "cell_type": "code",
   "execution_count": null,
   "id": "66056f97-b421-406e-bdd4-082585c82ccc",
   "metadata": {},
   "outputs": [],
   "source": [
    "new_new_new_test = imp.transform(new_new_test)"
   ]
  },
  {
   "cell_type": "code",
   "execution_count": null,
   "id": "cc45675a-980c-4223-b6a6-33b2fa658801",
   "metadata": {},
   "outputs": [],
   "source": []
  },
  {
   "cell_type": "code",
   "execution_count": null,
   "id": "17f13537-d4c5-4331-9cd8-3a3f84e21537",
   "metadata": {},
   "outputs": [],
   "source": [
    "# 9. test set 예측값 도출 #"
   ]
  },
  {
   "cell_type": "code",
   "execution_count": null,
   "id": "5436c99c-87f6-4d4f-aab4-ea85221224cb",
   "metadata": {},
   "outputs": [],
   "source": [
    "test_pred = model.predict(new_new_new_test)"
   ]
  },
  {
   "cell_type": "code",
   "execution_count": null,
   "id": "5924b187-d2b1-4333-a6cc-723f1fa1ad91",
   "metadata": {},
   "outputs": [],
   "source": [
    "test_pred"
   ]
  },
  {
   "cell_type": "code",
   "execution_count": null,
   "id": "0443ec28-6ed1-4b4a-b3c7-9604b8b01a3b",
   "metadata": {},
   "outputs": [],
   "source": []
  },
  {
   "cell_type": "code",
   "execution_count": null,
   "id": "10dea041-2049-45e0-92f3-85c779716db8",
   "metadata": {},
   "outputs": [],
   "source": []
  },
  {
   "cell_type": "code",
   "execution_count": null,
   "id": "32883530-2598-4b71-a8bc-464a825c9816",
   "metadata": {},
   "outputs": [],
   "source": []
  }
 ],
 "metadata": {
  "kernelspec": {
   "display_name": "Python 3",
   "language": "python",
   "name": "python3"
  },
  "language_info": {
   "codemirror_mode": {
    "name": "ipython",
    "version": 3
   },
   "file_extension": ".py",
   "mimetype": "text/x-python",
   "name": "python",
   "nbconvert_exporter": "python",
   "pygments_lexer": "ipython3",
   "version": "3.11.5"
  }
 },
 "nbformat": 4,
 "nbformat_minor": 5
}
