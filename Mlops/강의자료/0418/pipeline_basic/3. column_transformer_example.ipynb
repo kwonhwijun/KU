{
 "cells": [
  {
   "cell_type": "code",
   "execution_count": null,
   "id": "63ce06fd-b5c9-427a-856f-09debcdeb6c8",
   "metadata": {},
   "outputs": [],
   "source": [
    "# !pip install catboost"
   ]
  },
  {
   "cell_type": "code",
   "execution_count": null,
   "id": "a713b4f6-ff8d-4636-89d1-fe1e229e6037",
   "metadata": {},
   "outputs": [],
   "source": [
    "### 0. data import "
   ]
  },
  {
   "cell_type": "code",
   "execution_count": null,
   "id": "cb07ed91-d44d-4553-98c3-3506d939d405",
   "metadata": {},
   "outputs": [],
   "source": [
    "from catboost.datasets import titanic"
   ]
  },
  {
   "cell_type": "code",
   "execution_count": null,
   "id": "8f6933dd-c3a8-4156-a6fc-746a78a14041",
   "metadata": {},
   "outputs": [],
   "source": [
    "train, test = titanic()"
   ]
  },
  {
   "cell_type": "code",
   "execution_count": null,
   "id": "4e2436fa-fa11-451a-8bd5-2ea67afb77c1",
   "metadata": {},
   "outputs": [],
   "source": []
  },
  {
   "cell_type": "code",
   "execution_count": null,
   "id": "be819646-a40a-4416-8d96-ec1b5ba2a872",
   "metadata": {},
   "outputs": [],
   "source": [
    "import pandas as pd\n",
    "import numpy as np\n",
    "\n",
    "from sklearn.compose import ColumnTransformer, make_column_selector\n",
    "from sklearn.preprocessing import OneHotEncoder, StandardScaler"
   ]
  },
  {
   "cell_type": "code",
   "execution_count": null,
   "id": "e4cb803c-ab66-4ee1-9845-1cb67f647d7e",
   "metadata": {},
   "outputs": [],
   "source": []
  },
  {
   "cell_type": "code",
   "execution_count": null,
   "id": "e08bfafd-d25b-4f77-9dec-47b1ba906a5e",
   "metadata": {},
   "outputs": [],
   "source": []
  },
  {
   "cell_type": "code",
   "execution_count": null,
   "id": "9396b9ad-8ec7-4d07-844a-02c45652fce8",
   "metadata": {},
   "outputs": [],
   "source": [
    "### 1. ColumnTransformer를 이용하지 않았을 경우 \n",
    "### train 데이터 변환"
   ]
  },
  {
   "cell_type": "code",
   "execution_count": null,
   "id": "91be0a5c-e158-4269-b168-edc8a8b37c45",
   "metadata": {},
   "outputs": [],
   "source": [
    "ycol = [\"Survived\"]\n",
    "xcols = [col for col in train.columns if col not in ycol]"
   ]
  },
  {
   "cell_type": "code",
   "execution_count": null,
   "id": "f24586dd-b71d-48d1-b4a2-b54bbb920448",
   "metadata": {},
   "outputs": [],
   "source": [
    "num_cols = train[xcols].select_dtypes(include=np.number).columns.tolist()\n",
    "cat_cols = [col for col in xcols if col not in num_cols+ycol+[\"Name\",\"Ticket\",\"Cabin\"]]"
   ]
  },
  {
   "cell_type": "code",
   "execution_count": null,
   "id": "5ba52611-d4ff-46ff-8e3f-a655feb4b481",
   "metadata": {},
   "outputs": [],
   "source": [
    "cat_enc = OneHotEncoder(sparse=False)\n",
    "cat_enc.fit(train[cat_cols])"
   ]
  },
  {
   "cell_type": "code",
   "execution_count": null,
   "id": "36e201a6-7df0-417b-b239-d09c7cb4b19f",
   "metadata": {},
   "outputs": [],
   "source": [
    "train_cat_encoded = cat_enc.transform(train[cat_cols])"
   ]
  },
  {
   "cell_type": "code",
   "execution_count": null,
   "id": "150e21e8-b6b6-4c96-98c5-04b8a46f1a63",
   "metadata": {},
   "outputs": [],
   "source": [
    "num_enc = StandardScaler()\n",
    "num_enc.fit(train[num_cols])"
   ]
  },
  {
   "cell_type": "code",
   "execution_count": null,
   "id": "3ed31c6f-2142-478b-a8c7-13a50acb70fb",
   "metadata": {},
   "outputs": [],
   "source": [
    "train_num_encoded = num_enc.transform(train[num_cols])"
   ]
  },
  {
   "cell_type": "code",
   "execution_count": null,
   "id": "b7d91750-5f93-4a95-9cec-fd7e98a0a48c",
   "metadata": {},
   "outputs": [],
   "source": [
    "train_encoded = np.concatenate([train_cat_encoded,train_num_encoded], axis=1)"
   ]
  },
  {
   "cell_type": "code",
   "execution_count": null,
   "id": "9c020fe9-eeef-469a-a5ad-67c06e57e775",
   "metadata": {},
   "outputs": [],
   "source": [
    "### test 데이터 변환"
   ]
  },
  {
   "cell_type": "code",
   "execution_count": null,
   "id": "f433ed3f-f72d-480f-af1f-69c43af6eeeb",
   "metadata": {},
   "outputs": [],
   "source": [
    "test_cat_encoded = cat_enc.transform(test[cat_cols])\n",
    "test_num_encoded = num_enc.transform(test[num_cols])\n",
    "test_encoded = np.concatenate([test_cat_encoded, test_num_encoded], axis=1)"
   ]
  },
  {
   "cell_type": "code",
   "execution_count": null,
   "id": "3313a1ef-4000-4028-9a18-1fc3b4f237a1",
   "metadata": {},
   "outputs": [],
   "source": []
  },
  {
   "cell_type": "code",
   "execution_count": null,
   "id": "4ce524cc-f05f-4fd8-acae-32403ff28f92",
   "metadata": {},
   "outputs": [],
   "source": []
  },
  {
   "cell_type": "code",
   "execution_count": null,
   "id": "e38f9e2f-89ed-46cb-acb2-d81df32fa898",
   "metadata": {},
   "outputs": [],
   "source": []
  },
  {
   "cell_type": "code",
   "execution_count": null,
   "id": "fb35d09c-8131-4fdb-ac37-57b47a55d4c2",
   "metadata": {},
   "outputs": [],
   "source": []
  },
  {
   "cell_type": "code",
   "execution_count": null,
   "id": "dbed281f-07ed-45aa-81b2-17e30774cf8d",
   "metadata": {},
   "outputs": [],
   "source": [
    "### 2. ColumnTransformer 활용 (pandas)"
   ]
  },
  {
   "cell_type": "code",
   "execution_count": null,
   "id": "136ed6e1-196f-4e42-bb07-4760644efa03",
   "metadata": {},
   "outputs": [],
   "source": [
    "ycol = [\"Survived\"]\n",
    "xcols = [col for col in train.columns if col not in ycol]"
   ]
  },
  {
   "cell_type": "code",
   "execution_count": null,
   "id": "99a88cee-96ce-40fd-a3b9-6e77629f44b4",
   "metadata": {},
   "outputs": [],
   "source": [
    "num_cols = train[xcols].select_dtypes(include=np.number).columns.tolist()\n",
    "cat_cols = [col for col in xcols if col not in num_cols+ycol+[\"Name\",\"Ticket\",\"Cabin\"]]"
   ]
  },
  {
   "cell_type": "code",
   "execution_count": null,
   "id": "0ed828d7-f837-4c09-a1f1-bffd771d4b13",
   "metadata": {},
   "outputs": [],
   "source": [
    "trans = ColumnTransformer([\n",
    "    ('cat_cols',OneHotEncoder(sparse=False), cat_cols),\n",
    "    ('num_cols',StandardScaler(), num_cols)])"
   ]
  },
  {
   "cell_type": "code",
   "execution_count": null,
   "id": "c82e5a0d-ae3f-4c55-ac24-9b296d934249",
   "metadata": {},
   "outputs": [],
   "source": [
    "trans.fit(train[xcols])\n",
    "train_encoded = trans.transform(train[xcols])\n",
    "test_encoded = trans.transform(test[xcols])"
   ]
  },
  {
   "cell_type": "code",
   "execution_count": null,
   "id": "ce77a769-98e3-484f-8eb1-4ebeef353a28",
   "metadata": {},
   "outputs": [],
   "source": [
    "trans"
   ]
  },
  {
   "cell_type": "code",
   "execution_count": null,
   "id": "2763f57c-4c72-47c2-8c72-6e6135750332",
   "metadata": {},
   "outputs": [],
   "source": []
  },
  {
   "cell_type": "code",
   "execution_count": null,
   "id": "74fa5d8a-6f48-4da2-af26-708118a745ad",
   "metadata": {},
   "outputs": [],
   "source": [
    "### 3. ColumnTransformer (array)"
   ]
  },
  {
   "cell_type": "code",
   "execution_count": null,
   "id": "225a22d8-edde-4e62-b192-2741c9097cf8",
   "metadata": {},
   "outputs": [],
   "source": [
    "ycol = [\"Survived\"]\n",
    "xcols = [col for col in train.columns if col not in ycol]"
   ]
  },
  {
   "cell_type": "code",
   "execution_count": null,
   "id": "0ba0e349-1fbd-44e8-97ad-5f3c449b93ee",
   "metadata": {},
   "outputs": [],
   "source": [
    "cat_cols = [i for i,col in enumerate(xcols) if (test[col].dtypes==\"object\") and (col not in [\"Name\",\"Ticket\",\"Cabin\"])]\n",
    "num_cols = [i for i,col in enumerate(xcols) if (i not in cat_cols) and (col not in [\"Name\",\"Ticket\",\"Cabin\"])]"
   ]
  },
  {
   "cell_type": "code",
   "execution_count": null,
   "id": "10dbd602-62df-4593-a382-f4d709f9d19a",
   "metadata": {},
   "outputs": [],
   "source": [
    "train_numpy = train[xcols].to_numpy()\n",
    "test_numpy = test[xcols].to_numpy()"
   ]
  },
  {
   "cell_type": "code",
   "execution_count": null,
   "id": "7b037b1b-e528-431c-8ab4-ec68c3138e72",
   "metadata": {},
   "outputs": [],
   "source": [
    "trans = ColumnTransformer([\n",
    "    ('cat_cols',OneHotEncoder(sparse=False), cat_cols),\n",
    "    ('num_cols',StandardScaler(), num_cols)])"
   ]
  },
  {
   "cell_type": "code",
   "execution_count": null,
   "id": "8aefe9e0-27e9-4194-af4e-fed3f0ecd3f6",
   "metadata": {},
   "outputs": [],
   "source": [
    "trans.fit(train_numpy)\n",
    "train_encoded = trans.transform(train_numpy)\n",
    "test_encoded = trans.transform(test_numpy)"
   ]
  },
  {
   "cell_type": "code",
   "execution_count": null,
   "id": "b7f42f9e-ca30-4912-82e2-31eb81773e1d",
   "metadata": {},
   "outputs": [],
   "source": [
    "trans"
   ]
  },
  {
   "cell_type": "code",
   "execution_count": null,
   "id": "7c504195-9f39-4aa0-887f-12e2f31301fe",
   "metadata": {},
   "outputs": [],
   "source": []
  },
  {
   "cell_type": "code",
   "execution_count": null,
   "id": "f1384157-3297-4bea-86eb-4aaf4b3d5099",
   "metadata": {},
   "outputs": [],
   "source": []
  },
  {
   "cell_type": "code",
   "execution_count": null,
   "id": "a96e7ca6-d7ac-47d9-8a97-21ca3b926ecd",
   "metadata": {},
   "outputs": [],
   "source": []
  },
  {
   "cell_type": "code",
   "execution_count": null,
   "id": "923334f4-94da-454f-b1da-ea4b691f597b",
   "metadata": {},
   "outputs": [],
   "source": []
  },
  {
   "cell_type": "code",
   "execution_count": null,
   "id": "c11bca5a-4639-4cc3-8949-d05eb6be1fd1",
   "metadata": {},
   "outputs": [],
   "source": [
    "### 4. make_column_selector 활용 (pandas)"
   ]
  },
  {
   "cell_type": "code",
   "execution_count": null,
   "id": "4792e51b-413b-4ade-8c90-8cb1e03776e6",
   "metadata": {},
   "outputs": [],
   "source": [
    "ycol = [\"Survived\"]\n",
    "xcols = [col for col in train.columns if col not in ycol+[\"Name\",\"Ticket\",\"Cabin\"]]"
   ]
  },
  {
   "cell_type": "code",
   "execution_count": null,
   "id": "5f75828a-fd93-4c76-a55d-ee8398a87eb5",
   "metadata": {},
   "outputs": [],
   "source": [
    "trans = ColumnTransformer([\n",
    "    ('cat_cols',OneHotEncoder(sparse_output=False), make_column_selector(dtype_exclude=np.number)),\n",
    "    ('num_cols',StandardScaler(), make_column_selector(dtype_include=np.number))])"
   ]
  },
  {
   "cell_type": "code",
   "execution_count": null,
   "id": "d84acc17-cc4c-4c81-9a13-554ec694ce05",
   "metadata": {},
   "outputs": [],
   "source": [
    "trans.fit(train[xcols])\n",
    "train_encoded = trans.transform(train[xcols])\n",
    "test_encoded = trans.transform(test[xcols])"
   ]
  },
  {
   "cell_type": "code",
   "execution_count": null,
   "id": "26fb0055-1704-428e-8e38-c3d503e353b6",
   "metadata": {},
   "outputs": [],
   "source": [
    "trans"
   ]
  },
  {
   "cell_type": "code",
   "execution_count": null,
   "id": "74a4fd83-5409-43be-bb60-67a3ce5617cc",
   "metadata": {},
   "outputs": [],
   "source": []
  },
  {
   "cell_type": "code",
   "execution_count": null,
   "id": "77fef043-8237-408c-8048-9972c44a47ae",
   "metadata": {},
   "outputs": [],
   "source": []
  },
  {
   "cell_type": "code",
   "execution_count": null,
   "id": "095611b6-9d49-460a-9d17-2942415c443a",
   "metadata": {},
   "outputs": [],
   "source": []
  },
  {
   "cell_type": "code",
   "execution_count": null,
   "id": "85870d6f-6392-471a-918e-f9687fe922c4",
   "metadata": {},
   "outputs": [],
   "source": []
  }
 ],
 "metadata": {
  "kernelspec": {
   "display_name": "Python 3",
   "language": "python",
   "name": "python3"
  },
  "language_info": {
   "codemirror_mode": {
    "name": "ipython",
    "version": 3
   },
   "file_extension": ".py",
   "mimetype": "text/x-python",
   "name": "python",
   "nbconvert_exporter": "python",
   "pygments_lexer": "ipython3",
   "version": "3.9.17"
  }
 },
 "nbformat": 4,
 "nbformat_minor": 5
}
