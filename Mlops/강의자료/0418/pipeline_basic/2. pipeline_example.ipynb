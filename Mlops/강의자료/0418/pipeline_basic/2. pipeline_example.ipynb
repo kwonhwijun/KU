{
 "cells": [
  {
   "cell_type": "code",
   "execution_count": null,
   "id": "2b7e0ecc-aeb7-429e-b886-bd7effe9627c",
   "metadata": {},
   "outputs": [],
   "source": [
    "from catboost.datasets import titanic"
   ]
  },
  {
   "cell_type": "code",
   "execution_count": null,
   "id": "4bfe7eee-2c2c-40bd-959b-be3ff4e5da66",
   "metadata": {},
   "outputs": [],
   "source": [
    "train, _  = titanic()"
   ]
  },
  {
   "cell_type": "code",
   "execution_count": null,
   "id": "5c690d28-5ad4-46dc-b603-1e4867f513b2",
   "metadata": {},
   "outputs": [],
   "source": [
    "train.head()"
   ]
  },
  {
   "cell_type": "code",
   "execution_count": null,
   "id": "520ee46b-b588-4eef-8965-8b83d89dab0f",
   "metadata": {},
   "outputs": [],
   "source": []
  },
  {
   "cell_type": "code",
   "execution_count": null,
   "id": "0fa3de1b-d26e-42b5-aae7-6d809f2a9b6e",
   "metadata": {},
   "outputs": [],
   "source": [
    "import pandas as pd\n",
    "import numpy as np"
   ]
  },
  {
   "cell_type": "code",
   "execution_count": null,
   "id": "919e4e35-43cb-4efa-8636-e3a008d67543",
   "metadata": {},
   "outputs": [],
   "source": [
    "from sklearn.model_selection import train_test_split"
   ]
  },
  {
   "cell_type": "code",
   "execution_count": null,
   "id": "da8232c9-da08-450f-ae8d-c0d1d338ca36",
   "metadata": {},
   "outputs": [],
   "source": [
    "X = train.select_dtypes(include=np.number).dropna()\n",
    "train, test = train_test_split(X, test_size=0.3)"
   ]
  },
  {
   "cell_type": "code",
   "execution_count": null,
   "id": "58fa577e-e1cb-4575-bee3-fd2671c4e9ff",
   "metadata": {},
   "outputs": [],
   "source": []
  },
  {
   "cell_type": "code",
   "execution_count": null,
   "id": "450ed621-5f4a-4aca-bb4e-a69a926282ea",
   "metadata": {},
   "outputs": [],
   "source": []
  },
  {
   "cell_type": "code",
   "execution_count": null,
   "id": "63db8c41-d1c5-4b56-b162-fce5d47636ff",
   "metadata": {},
   "outputs": [],
   "source": [
    "## pipeline 적용하지 않은 경우 ##"
   ]
  },
  {
   "cell_type": "code",
   "execution_count": null,
   "id": "e41aafad-8231-4f2d-b775-ebb9e928511e",
   "metadata": {},
   "outputs": [],
   "source": [
    "from sklearn.preprocessing import StandardScaler\n",
    "from sklearn.decomposition import PCA\n",
    "from sklearn.pipeline import Pipeline"
   ]
  },
  {
   "cell_type": "code",
   "execution_count": null,
   "id": "5dcee713-3002-40b7-ac16-0d780efd48cd",
   "metadata": {},
   "outputs": [],
   "source": [
    "sd = StandardScaler()\n",
    "sd.fit(train)\n",
    "new_train = sd.transform(train)\n",
    "\n",
    "model = PCA(n_components=2)\n",
    "model.fit(new_train)\n",
    "train_pca = model.transform(new_train)\n",
    "\n",
    "new_test = sd.transform(test)\n",
    "test_pca = model.transform(new_test)"
   ]
  },
  {
   "cell_type": "code",
   "execution_count": null,
   "id": "506e4029-b654-44c4-aac0-34b3f2b92c70",
   "metadata": {},
   "outputs": [],
   "source": [
    "from matplotlib import pyplot as plt"
   ]
  },
  {
   "cell_type": "code",
   "execution_count": null,
   "id": "63b75409-91ce-48d2-8333-f62d2a798bd4",
   "metadata": {},
   "outputs": [],
   "source": [
    "plt.scatter(train_pca[:,0], train_pca[:,1])\n",
    "plt.scatter(test_pca[:,0], test_pca[:,1])"
   ]
  },
  {
   "cell_type": "code",
   "execution_count": null,
   "id": "2fec9f6e-e61c-4a59-a0f1-003ffb9db2b0",
   "metadata": {},
   "outputs": [],
   "source": []
  },
  {
   "cell_type": "code",
   "execution_count": null,
   "id": "943f6e5d-8905-48cb-bbf8-3b0e552e52bd",
   "metadata": {},
   "outputs": [],
   "source": []
  },
  {
   "cell_type": "code",
   "execution_count": null,
   "id": "e6b1166d-de44-4b28-a1a8-0662e45e652a",
   "metadata": {},
   "outputs": [],
   "source": []
  },
  {
   "cell_type": "code",
   "execution_count": null,
   "id": "774b7773-7c95-4664-89c6-afc8de60a13e",
   "metadata": {},
   "outputs": [],
   "source": [
    "## pipeline을 적용한 경우 ##"
   ]
  },
  {
   "cell_type": "code",
   "execution_count": null,
   "id": "a2111744-04c2-4e6f-a23f-d869a98925bd",
   "metadata": {},
   "outputs": [],
   "source": [
    "pipe = Pipeline(steps = [ ('step1', StandardScaler()),  ('step2', PCA(n_components=2)),])\n",
    "pipe.fit(train)\n",
    "train_pca = pipe.transform(train)\n",
    "test_pca = pipe.transform(test)"
   ]
  },
  {
   "cell_type": "code",
   "execution_count": null,
   "id": "86d96aeb-f036-4560-b4eb-a221f0e08a21",
   "metadata": {},
   "outputs": [],
   "source": [
    "plt.scatter(train_pca[:,0], train_pca[:,1])\n",
    "plt.scatter(test_pca[:,0], test_pca[:,1])"
   ]
  },
  {
   "cell_type": "code",
   "execution_count": null,
   "id": "0bd2f016-7a9f-49fc-bbc8-7d93501ffdaa",
   "metadata": {},
   "outputs": [],
   "source": []
  },
  {
   "cell_type": "code",
   "execution_count": null,
   "id": "8db241f7-5367-40e3-a4f4-26006637d66c",
   "metadata": {},
   "outputs": [],
   "source": []
  },
  {
   "cell_type": "code",
   "execution_count": null,
   "id": "945dbb13-2dc4-417a-9ffb-1d01603b7b9f",
   "metadata": {},
   "outputs": [],
   "source": []
  }
 ],
 "metadata": {
  "kernelspec": {
   "display_name": "Python 3",
   "language": "python",
   "name": "python3"
  },
  "language_info": {
   "codemirror_mode": {
    "name": "ipython",
    "version": 3
   },
   "file_extension": ".py",
   "mimetype": "text/x-python",
   "name": "python",
   "nbconvert_exporter": "python",
   "pygments_lexer": "ipython3",
   "version": "3.9.17"
  }
 },
 "nbformat": 4,
 "nbformat_minor": 5
}
